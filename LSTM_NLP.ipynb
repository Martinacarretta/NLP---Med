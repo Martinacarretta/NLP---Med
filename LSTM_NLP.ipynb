{
  "nbformat": 4,
  "nbformat_minor": 0,
  "metadata": {
    "colab": {
      "provenance": []
    },
    "kernelspec": {
      "name": "python3",
      "display_name": "Python 3"
    },
    "language_info": {
      "name": "python"
    }
  },
  "cells": [
    {
      "cell_type": "markdown",
      "source": [
        "#**Deep Learning Method**"
      ],
      "metadata": {
        "id": "mlJwg6WYtrKa"
      }
    },
    {
      "cell_type": "markdown",
      "source": [
        "Group 7:\n",
        "- Martina Carretta\n",
        "- Meritxell Carvajal\n",
        "- Mariona Pla\n",
        "- Ares Sellart"
      ],
      "metadata": {
        "id": "QYWG2PSBtzRo"
      }
    },
    {
      "cell_type": "code",
      "execution_count": null,
      "metadata": {
        "id": "_hpqYchsm30I",
        "colab": {
          "base_uri": "https://localhost:8080/"
        },
        "outputId": "86553df0-82db-4a00-a419-c33d972b4c52"
      },
      "outputs": [
        {
          "output_type": "stream",
          "name": "stdout",
          "text": [
            "\u001b[?25l     \u001b[90m━━━━━━━━━━━━━━━━━━━━━━━━━━━━━━━━━━━━━━━━\u001b[0m \u001b[32m0.0/243.8 kB\u001b[0m \u001b[31m?\u001b[0m eta \u001b[36m-:--:--\u001b[0m\r\u001b[2K     \u001b[91m━━━━━━━━━━━━━━━━━━━━━━━━━━━━━━\u001b[0m\u001b[90m╺\u001b[0m\u001b[90m━━━━━━━━━\u001b[0m \u001b[32m184.3/243.8 kB\u001b[0m \u001b[31m5.3 MB/s\u001b[0m eta \u001b[36m0:00:01\u001b[0m\r\u001b[2K     \u001b[90m━━━━━━━━━━━━━━━━━━━━━━━━━━━━━━━━━━━━━━━━\u001b[0m \u001b[32m243.8/243.8 kB\u001b[0m \u001b[31m4.6 MB/s\u001b[0m eta \u001b[36m0:00:00\u001b[0m\n",
            "\u001b[?25h  Installing build dependencies ... \u001b[?25l\u001b[?25hdone\n",
            "  Getting requirements to build wheel ... \u001b[?25l\u001b[?25hdone\n",
            "  Preparing metadata (pyproject.toml) ... \u001b[?25l\u001b[?25hdone\n",
            "\u001b[2K     \u001b[90m━━━━━━━━━━━━━━━━━━━━━━━━━━━━━━━━━━━━━━━━\u001b[0m \u001b[32m6.6/6.6 MB\u001b[0m \u001b[31m17.8 MB/s\u001b[0m eta \u001b[36m0:00:00\u001b[0m\n",
            "\u001b[2K     \u001b[90m━━━━━━━━━━━━━━━━━━━━━━━━━━━━━━━━━━━━━━━━\u001b[0m \u001b[32m67.4/67.4 kB\u001b[0m \u001b[31m7.1 MB/s\u001b[0m eta \u001b[36m0:00:00\u001b[0m\n",
            "\u001b[2K     \u001b[90m━━━━━━━━━━━━━━━━━━━━━━━━━━━━━━━━━━━━━━━━\u001b[0m \u001b[32m71.1/71.1 kB\u001b[0m \u001b[31m2.5 MB/s\u001b[0m eta \u001b[36m0:00:00\u001b[0m\n",
            "\u001b[2K     \u001b[90m━━━━━━━━━━━━━━━━━━━━━━━━━━━━━━━━━━━━━━━━\u001b[0m \u001b[32m69.9/69.9 kB\u001b[0m \u001b[31m8.9 MB/s\u001b[0m eta \u001b[36m0:00:00\u001b[0m\n",
            "\u001b[?25h  Preparing metadata (setup.py) ... \u001b[?25l\u001b[?25hdone\n",
            "\u001b[2K     \u001b[90m━━━━━━━━━━━━━━━━━━━━━━━━━━━━━━━━━━━━━━━━\u001b[0m \u001b[32m235.5/235.5 kB\u001b[0m \u001b[31m24.9 MB/s\u001b[0m eta \u001b[36m0:00:00\u001b[0m\n",
            "\u001b[2K     \u001b[90m━━━━━━━━━━━━━━━━━━━━━━━━━━━━━━━━━━━━━━━━\u001b[0m \u001b[32m1.5/1.5 MB\u001b[0m \u001b[31m40.5 MB/s\u001b[0m eta \u001b[36m0:00:00\u001b[0m\n",
            "\u001b[2K     \u001b[90m━━━━━━━━━━━━━━━━━━━━━━━━━━━━━━━━━━━━━━━━\u001b[0m \u001b[32m425.0/425.0 kB\u001b[0m \u001b[31m23.6 MB/s\u001b[0m eta \u001b[36m0:00:00\u001b[0m\n",
            "\u001b[2K     \u001b[90m━━━━━━━━━━━━━━━━━━━━━━━━━━━━━━━━━━━━━━━━\u001b[0m \u001b[32m1.9/1.9 MB\u001b[0m \u001b[31m47.6 MB/s\u001b[0m eta \u001b[36m0:00:00\u001b[0m\n",
            "\u001b[2K     \u001b[90m━━━━━━━━━━━━━━━━━━━━━━━━━━━━━━━━━━━━━━━━\u001b[0m \u001b[32m408.3/408.3 kB\u001b[0m \u001b[31m31.4 MB/s\u001b[0m eta \u001b[36m0:00:00\u001b[0m\n",
            "\u001b[2K     \u001b[90m━━━━━━━━━━━━━━━━━━━━━━━━━━━━━━━━━━━━━━━━\u001b[0m \u001b[32m919.6/919.6 kB\u001b[0m \u001b[31m47.0 MB/s\u001b[0m eta \u001b[36m0:00:00\u001b[0m\n",
            "\u001b[2K     \u001b[90m━━━━━━━━━━━━━━━━━━━━━━━━━━━━━━━━━━━━━━━━\u001b[0m \u001b[32m47.3/47.3 kB\u001b[0m \u001b[31m4.6 MB/s\u001b[0m eta \u001b[36m0:00:00\u001b[0m\n",
            "\u001b[2K     \u001b[90m━━━━━━━━━━━━━━━━━━━━━━━━━━━━━━━━━━━━━━━━\u001b[0m \u001b[32m3.1/3.1 MB\u001b[0m \u001b[31m47.9 MB/s\u001b[0m eta \u001b[36m0:00:00\u001b[0m\n",
            "\u001b[?25h  Building wheel for medspacy (pyproject.toml) ... \u001b[?25l\u001b[?25hdone\n",
            "  Building wheel for medspacy-quickumls (setup.py) ... \u001b[?25l\u001b[?25hdone\n",
            "\u001b[31mERROR: pip's dependency resolver does not currently take into account all the packages that are installed. This behaviour is the source of the following dependency conflicts.\n",
            "en-core-web-sm 3.7.1 requires spacy<3.8.0,>=3.7.2, but you have spacy 3.5.4 which is incompatible.\u001b[0m\u001b[31m\n",
            "\u001b[0m"
          ]
        }
      ],
      "source": [
        "!pip install --quiet medspacy\n",
        "!pip install --quiet spacy nltk\n",
        "!python -m spacy download es_core_news_lg > /dev/null 2>&1"
      ]
    },
    {
      "cell_type": "code",
      "source": [
        "#!pip install --quiet spacy\n",
        "import spacy"
      ],
      "metadata": {
        "id": "AINavLEvfOIX"
      },
      "execution_count": null,
      "outputs": []
    },
    {
      "cell_type": "code",
      "source": [
        "import json\n",
        "import nltk\n",
        "\n",
        "import os\n",
        "\n",
        "import medspacy\n",
        "from spacy.tokens import Token\n",
        "\n",
        "import numpy as np\n",
        "import pandas as pd\n",
        "\n",
        "import tensorflow as tf\n",
        "from tensorflow.keras.models import Sequential\n",
        "from tensorflow.keras.layers import Embedding, LSTM, Dense, TimeDistributed, Bidirectional\n",
        "from sklearn.model_selection import train_test_split\n",
        "\n",
        "import torch.nn as nn\n",
        "import torch\n",
        "import torch.optim as optim\n",
        "import torch.nn.functional as F\n",
        "from sklearn.metrics import classification_report"
      ],
      "metadata": {
        "id": "dK7y_hZtm5M6"
      },
      "execution_count": null,
      "outputs": []
    },
    {
      "cell_type": "markdown",
      "source": [
        "# Import the data"
      ],
      "metadata": {
        "id": "cmdfi4OHt54L"
      }
    },
    {
      "cell_type": "code",
      "source": [
        "!git clone https://github.com/Martinacarretta/NLP_Med\n",
        "\n",
        "repo_dir = '/content/NLP_Med'\n",
        "if not os.path.exists(repo_dir):\n",
        "    !git clone https://github.com/Martinacarretta/NLP_Med {repo_dir}\n",
        "\n",
        "# Load data\n",
        "json_path = os.path.join(repo_dir, 'negacio_train_v2024.json')\n",
        "\n",
        "with open(json_path, 'r') as json_file:\n",
        "    json_object = json.load(json_file)"
      ],
      "metadata": {
        "colab": {
          "base_uri": "https://localhost:8080/"
        },
        "id": "wFlv9F4Um6Mf",
        "outputId": "a18d5832-1d1a-4a73-c32e-73aba82f9539"
      },
      "execution_count": null,
      "outputs": [
        {
          "output_type": "stream",
          "name": "stdout",
          "text": [
            "Cloning into 'NLP_Med'...\n",
            "remote: Enumerating objects: 17, done.\u001b[K\n",
            "remote: Counting objects: 100% (17/17), done.\u001b[K\n",
            "remote: Compressing objects: 100% (13/13), done.\u001b[K\n",
            "remote: Total 17 (delta 5), reused 16 (delta 4), pack-reused 0\u001b[K\n",
            "Receiving objects: 100% (17/17), 838.99 KiB | 2.49 MiB/s, done.\n",
            "Resolving deltas: 100% (5/5), done.\n"
          ]
        }
      ]
    },
    {
      "cell_type": "code",
      "source": [
        "def convert_char_to_token(tokens, text, char_indices):\n",
        "    start_char_index, end_char_index = char_indices\n",
        "    token_start_index = next(i for i, token in enumerate(tokens) if token.idx >= start_char_index)\n",
        "    token_end_index = next(i for i, token in enumerate(tokens) if token.idx >= end_char_index)\n",
        "    return token_start_index, token_end_index"
      ],
      "metadata": {
        "id": "L9mrmFrVm8Ly"
      },
      "execution_count": null,
      "outputs": []
    },
    {
      "cell_type": "code",
      "source": [
        "nlp_es = spacy.load('es_core_news_lg')\n",
        "X = []\n",
        "y = []\n",
        "\n",
        "for entry in json_object:\n",
        "    text = entry.get('data')['text']\n",
        "    doc = nlp_es(text)\n",
        "\n",
        "    # Create vectors of true labels\n",
        "    true = np.zeros(len(doc), dtype=int)\n",
        "\n",
        "    for prediction in entry.get('predictions', []):\n",
        "        for label_data in prediction['result']:\n",
        "          label_value = label_data['value']\n",
        "          labels = label_value['labels']\n",
        "          start_index = label_value['start']\n",
        "          end_index = label_value['end']\n",
        "          text2 = text[start_index:end_index]  # Extract text based on start and end indexes\n",
        "\n",
        "          # Add words to corresponding sets based on labels\n",
        "          for label in labels:\n",
        "              if label == \"NEG\":\n",
        "                  start, end = convert_char_to_token(doc, text, (start_index, end_index)) # get index of negation in token form\n",
        "                  true[start:end] = 1\n",
        "              if label == \"UNC\":\n",
        "                  start, end = convert_char_to_token(doc, text, (start_index, end_index)) # get index of uncertainty in token form\n",
        "                  true[start:end] = 2\n",
        "              if label == \"NSCO\":\n",
        "                  start, end = convert_char_to_token(doc, text, (start_index, end_index)) # get index of negation scope in token form\n",
        "                  true[start:end] = 3\n",
        "              if label == \"USCO\":\n",
        "                  start, end = convert_char_to_token(doc, text, (start_index, end_index)) # get index of uncertainty scope in token form\n",
        "                  true[start:end] = 4\n",
        "\n",
        "\n",
        "    tokens_list = [token.text.lower() for token in doc] # Doc has object type, to work with word embeddings, we need a list of tokens. The lower() is to ensure consistency\n",
        "\n",
        "    X.append(tokens_list)\n",
        "    true = list(true)\n",
        "    y.append(true)\n",
        "\n",
        "y = [[str(element) for element in sequence] for sequence in y]"
      ],
      "metadata": {
        "id": "oPX81h7um9R1"
      },
      "execution_count": null,
      "outputs": []
    },
    {
      "cell_type": "code",
      "source": [
        "vocab = set([item for doc in X for item in doc])\n",
        "vocab.add('<UNK>')  # Add unkown word in case there are unseed words in test set"
      ],
      "metadata": {
        "id": "4971U8HLsg24"
      },
      "execution_count": null,
      "outputs": []
    },
    {
      "cell_type": "code",
      "source": [
        "word_to_ix = {word: i for i, word in enumerate(vocab)}"
      ],
      "metadata": {
        "id": "oVSw8fqUwd_T"
      },
      "execution_count": null,
      "outputs": []
    },
    {
      "cell_type": "code",
      "source": [
        "X_train, X_val, y_train, y_val = train_test_split(X, y, test_size=0.2, random_state=42)"
      ],
      "metadata": {
        "id": "Wlxjm9Xmph2H"
      },
      "execution_count": null,
      "outputs": []
    },
    {
      "cell_type": "markdown",
      "source": [
        "#Model: LSTM"
      ],
      "metadata": {
        "id": "dUZmmPGgt-Xt"
      }
    },
    {
      "cell_type": "markdown",
      "source": [
        "##Build the model"
      ],
      "metadata": {
        "id": "8BCrzt3CuCUz"
      }
    },
    {
      "cell_type": "markdown",
      "source": [
        "In this part of the process we introduce an LSTM-based neural network model, LSTMTagger. In summary, its architecture encompasses an embedding layer, an LSTM layer, and a linear layer, enabling the model to process input sequences, capture sequential dependencies, and map them to tag scores effectively.\n",
        "\n",
        "We thought that an LSTM model could be a great choice for our project for several reasons. Firstly, LSTMs are supposed to excel in sequential modeling, crucial for understanding linguistic structures where word context is paramount. Secondly, their memory cells enable them to retain information over long sequences and they can handle varying sequence lengths."
      ],
      "metadata": {
        "id": "-CpO6tLJgDJJ"
      }
    },
    {
      "cell_type": "code",
      "source": [
        "class LSTMTagger(nn.Module):\n",
        "  def __init__(self, embedding_dim, hidden_dim, vocab_size, tagset_size):\n",
        "    super(LSTMTagger, self).__init__()\n",
        "    self.hidden_dim = hidden_dim\n",
        "\n",
        "    self.word_embeddings = nn.Embedding(vocab_size, embedding_dim)\n",
        "\n",
        "    # The LSTM takes word embeddings as inputs, and outputs hidden states\n",
        "    # with dimensionality hidden_dim.\n",
        "    self.lstm = nn.LSTM(embedding_dim, hidden_dim)\n",
        "\n",
        "    # The linear layer that maps from hidden state space to tag space\n",
        "    self.hidden2tag = nn.Linear(hidden_dim, tagset_size)\n",
        "\n",
        "  def forward(self, sentence):\n",
        "    embeds = self.word_embeddings(sentence)\n",
        "    lstm_out, _ = self.lstm(embeds.view(len(sentence), 1, -1))\n",
        "    tag_space = self.hidden2tag(lstm_out.view(len(sentence), -1))\n",
        "    tag_scores = F.log_softmax(tag_space, dim=1)\n",
        "    return tag_scores\n",
        "\n",
        "input_dim = len(vocab) # Number of unique words + '<UNK>' index\n",
        "embedding_dim = 100\n",
        "hidden_dim = 128\n",
        "output_dim = 5  # Number of tags\n",
        "n_layers = 2\n",
        "\n",
        "device = torch.device(\"cuda\" if torch.cuda.is_available() else \"cpu\")\n",
        "\n",
        "model = LSTMTagger(embedding_dim, hidden_dim, input_dim, output_dim).to(device)"
      ],
      "metadata": {
        "id": "MVJ9cac8sP0-"
      },
      "execution_count": null,
      "outputs": []
    },
    {
      "cell_type": "markdown",
      "source": [
        "#### `input_dim = len(vocab)`\n",
        "- **Description:** It's the numnber of unique words in the initial data set plus a <UNK> in case there are unseen words in the test set.\n",
        "\n",
        "#### `embedding_dim = 100`\n",
        "- **Increasing:** (e.g., 200) Better word representation, higher memory/computation cost.\n",
        "- **Decreasing:** (e.g., 50) Faster training, lower memory usage, less detailed word representation.\n",
        "\n",
        "#### `hidden_dim = 128`:\n",
        "Number of features in LSTM hidden state.\n",
        "- **Increasing:** (e.g., 256) Captures complex patterns, higher computational load.\n",
        "- **Decreasing:** (e.g., 64) Simpler, faster, but might miss complex patterns.\n",
        "\n",
        "#### `output_dim = 5`\n",
        "- **Description:** Number of output tags/classes.\n",
        "- **Note:** Fixed by task requirements.\n"
      ],
      "metadata": {
        "id": "BEGzf4GdN4N0"
      }
    },
    {
      "cell_type": "markdown",
      "source": [
        "Given that the complexity and size of the dataset are not very high, opting for medium values for the parameters can indeed provide a balanced model that performs well without overfitting or being computationally expensive."
      ],
      "metadata": {
        "id": "S9-GY1FRN6O_"
      }
    },
    {
      "cell_type": "markdown",
      "source": [
        "##Train"
      ],
      "metadata": {
        "id": "NHvLqLB2uGVM"
      }
    },
    {
      "cell_type": "code",
      "source": [
        "# Convert sequences to PyTorch tensors\n",
        "def prepare_sequence(seq, to_ix):\n",
        "    idxs = []\n",
        "    for word in seq:\n",
        "      if word not in vocab:\n",
        "        idxs.append(to_ix['<UNK>']) # Handle unseen words (not present in the vocabulary set)\n",
        "      else:\n",
        "        idxs.append(to_ix[word])\n",
        "    return torch.tensor(idxs, dtype=torch.long)"
      ],
      "metadata": {
        "id": "24WolPz6yH2o"
      },
      "execution_count": null,
      "outputs": []
    },
    {
      "cell_type": "code",
      "source": [
        "# Define loss function and optimizer\n",
        "loss_function = nn.NLLLoss()\n",
        "optimizer = optim.Adam(model.parameters(), lr=0.001)\n",
        "\n",
        "epochs = 10\n",
        "# Training loop\n",
        "for epoch in range(epochs):  # Define the number of epochs\n",
        "    model.train()\n",
        "    epoch_loss = 0\n",
        "    for i in range(len(X_train)):\n",
        "        model.zero_grad()\n",
        "\n",
        "        sentence_in = prepare_sequence(X_train[i], word_to_ix)\n",
        "        targets = torch.tensor([int(tag) for tag in y_train[i]], dtype=torch.long)\n",
        "\n",
        "        sentence_in = sentence_in.to(device)\n",
        "        targets = targets.to(device)\n",
        "\n",
        "        tag_scores = model(sentence_in)\n",
        "\n",
        "        loss = loss_function(tag_scores, targets)\n",
        "        epoch_loss += loss.item()\n",
        "\n",
        "        loss.backward()\n",
        "        optimizer.step()\n",
        "\n",
        "    print(f'Epoch {epoch + 1}, Loss: {epoch_loss / len(X_train)}')"
      ],
      "metadata": {
        "colab": {
          "base_uri": "https://localhost:8080/"
        },
        "id": "A3VWlM3pq8ys",
        "outputId": "99217988-2919-4cc8-ad8b-707f10757562"
      },
      "execution_count": null,
      "outputs": [
        {
          "output_type": "stream",
          "name": "stdout",
          "text": [
            "Epoch 1, Loss: 0.290883031751722\n",
            "Epoch 2, Loss: 0.119965618288172\n",
            "Epoch 3, Loss: 0.09234215576302608\n",
            "Epoch 4, Loss: 0.07170884104518982\n",
            "Epoch 5, Loss: 0.05615185164809777\n",
            "Epoch 6, Loss: 0.04477982281184219\n",
            "Epoch 7, Loss: 0.0372947342349721\n",
            "Epoch 8, Loss: 0.0321215303268357\n",
            "Epoch 9, Loss: 0.0272743701315462\n",
            "Epoch 10, Loss: 0.024968351073462167\n"
          ]
        }
      ]
    },
    {
      "cell_type": "markdown",
      "source": [
        "Setting the number of epochs to 10 strikes a balance between training efficiency, model convergence, and computational constraints. It allows for multiple training iterations while ensuring timely experimentation and resource utilization.\n",
        "\n",
        "While a number of epochs of 15 decreases the loss in the training set, it decreases a bit the performance of the model in the validaiton and test set. A higher number of epochs can lead to overfitting, that's why 10 is a better choice."
      ],
      "metadata": {
        "id": "LmJg9m5HOWkb"
      }
    },
    {
      "cell_type": "markdown",
      "source": [
        "##Validation"
      ],
      "metadata": {
        "id": "MnYXG-TouJA9"
      }
    },
    {
      "cell_type": "code",
      "source": [
        "def predict_tags(model, docs, word_to_ix):\n",
        "    predictions = []\n",
        "    model.eval()\n",
        "    for doc in docs:\n",
        "        with torch.no_grad():\n",
        "          inputs = prepare_sequence(doc, word_to_ix).to(device)\n",
        "          tag_scores = model(inputs)\n",
        "          _, predicted = torch.max(tag_scores, 1)\n",
        "          predicted_tags = [str(tag.item()) for tag in predicted]\n",
        "          predictions.append(predicted_tags)\n",
        "    return predictions"
      ],
      "metadata": {
        "id": "T-cLSp_Bu73N"
      },
      "execution_count": null,
      "outputs": []
    },
    {
      "cell_type": "code",
      "source": [
        "# Evaluation\n",
        "model.eval()\n",
        "with torch.no_grad():\n",
        "    correct = 0\n",
        "    total = 0\n",
        "    for i in range(len(X_val)):\n",
        "        inputs = prepare_sequence(X_val[i], word_to_ix).to(device)\n",
        "        targets = torch.tensor([int(tag) for tag in y_val[i]], dtype=torch.long).to(device)\n",
        "        tag_scores = model(inputs)\n",
        "        _, predicted = torch.max(tag_scores, 1)\n",
        "        total += targets.size(0)\n",
        "        correct += (predicted == targets).sum().item()\n",
        "\n",
        "    accuracy = correct / total\n",
        "    print(f'Accuracy on validation set: {accuracy}')"
      ],
      "metadata": {
        "colab": {
          "base_uri": "https://localhost:8080/"
        },
        "id": "qby2AF07s-Gv",
        "outputId": "dbaa91e9-b311-4ca4-cc7c-ce406016ef13"
      },
      "execution_count": null,
      "outputs": [
        {
          "output_type": "stream",
          "name": "stdout",
          "text": [
            "Accuracy on validation set: 0.9745001726850608\n"
          ]
        }
      ]
    },
    {
      "cell_type": "code",
      "source": [
        "predictions = predict_tags(model, X_val, word_to_ix)"
      ],
      "metadata": {
        "id": "_rGMLuyjiFIk"
      },
      "execution_count": null,
      "outputs": []
    },
    {
      "cell_type": "code",
      "source": [
        "def create_report(num_docs, true, prediction1):\n",
        "    num_documents = num_docs\n",
        "    dfs = [] #list to store DataFrames for each document\n",
        "    for n in range(num_documents):\n",
        "        report1 = classification_report(true[n], prediction1[n], labels=[0, 1, 2, 3, 4], output_dict=True)\n",
        "\n",
        "        # Delete accuracy, macro-average, and weighted average\n",
        "        for report in [report1]:\n",
        "            for key in ['accuracy', 'macro avg', 'micro avg', 'weighted avg']:\n",
        "                if key in report:\n",
        "                    del report[key]\n",
        "\n",
        "        df_report1 = pd.DataFrame(report1).transpose()\n",
        "        df_report1['Prediction'] = [prediction1[n].count(i) for i in [0, 1, 2, 3, 4]]\n",
        "\n",
        "        df_report1['Document'] = n + 1  # Add 'Document' column\n",
        "\n",
        "        dfs.append(df_report1)\n",
        "\n",
        "    # Concatenate DataFrames for all documents\n",
        "    classification_reports_df = pd.concat(dfs)\n",
        "    classification_reports_df.reset_index(inplace=True)  # Reset index\n",
        "    classification_reports_df.rename(columns={'index': 'Class'}, inplace=True)  # Rename the index column to 'Class'\n",
        "\n",
        "    # Replace precision, recall, and F1-score with NaN if support is zero (since their measures can't be computed)\n",
        "    classification_reports_df.loc[classification_reports_df['support'] == 0, ['precision', 'recall', 'f1-score']] = np.nan\n",
        "\n",
        "    classification_reports_df[['precision', 'recall', 'f1-score']] = classification_reports_df[['precision', 'recall', 'f1-score']].round(2)\n",
        "    classification_reports_df[['support']] = classification_reports_df[['support']].astype(int)\n",
        "\n",
        "    # Move 'Document' to the front\n",
        "    cols = classification_reports_df.columns.tolist()\n",
        "    cols = ['Document', 'Class'] + [col for col in cols if col not in ['Document', 'Class']]\n",
        "    classification_reports_df = classification_reports_df[cols]\n",
        "\n",
        "    # Add separator column\n",
        "    return classification_reports_df\n"
      ],
      "metadata": {
        "id": "WhFW47p9zAME"
      },
      "execution_count": null,
      "outputs": []
    },
    {
      "cell_type": "code",
      "source": [
        "report = create_report(len(X_val), y_val, predictions)"
      ],
      "metadata": {
        "id": "A0IO_2lOzAzj"
      },
      "execution_count": null,
      "outputs": []
    },
    {
      "cell_type": "code",
      "source": [
        "val_metric = report.groupby('Class')[['precision', 'recall', 'f1-score']].mean().round(2)\n",
        "print(\"Validation set average metrics\")\n",
        "val_metric"
      ],
      "metadata": {
        "colab": {
          "base_uri": "https://localhost:8080/",
          "height": 255
        },
        "id": "ltEYm6RZzHeE",
        "outputId": "eb38328b-58fb-4689-b170-603018cd3b7f"
      },
      "execution_count": null,
      "outputs": [
        {
          "output_type": "stream",
          "name": "stdout",
          "text": [
            "Validation set average metrics\n"
          ]
        },
        {
          "output_type": "execute_result",
          "data": {
            "text/plain": [
              "       precision  recall  f1-score\n",
              "Class                             \n",
              "0           0.99    0.99      0.99\n",
              "1           0.95    0.94      0.94\n",
              "2           0.83    0.69      0.73\n",
              "3           0.83    0.85      0.83\n",
              "4           0.66    0.54      0.54"
            ],
            "text/html": [
              "\n",
              "  <div id=\"df-b659b975-df50-446b-ba13-10a38e5adbef\" class=\"colab-df-container\">\n",
              "    <div>\n",
              "<style scoped>\n",
              "    .dataframe tbody tr th:only-of-type {\n",
              "        vertical-align: middle;\n",
              "    }\n",
              "\n",
              "    .dataframe tbody tr th {\n",
              "        vertical-align: top;\n",
              "    }\n",
              "\n",
              "    .dataframe thead th {\n",
              "        text-align: right;\n",
              "    }\n",
              "</style>\n",
              "<table border=\"1\" class=\"dataframe\">\n",
              "  <thead>\n",
              "    <tr style=\"text-align: right;\">\n",
              "      <th></th>\n",
              "      <th>precision</th>\n",
              "      <th>recall</th>\n",
              "      <th>f1-score</th>\n",
              "    </tr>\n",
              "    <tr>\n",
              "      <th>Class</th>\n",
              "      <th></th>\n",
              "      <th></th>\n",
              "      <th></th>\n",
              "    </tr>\n",
              "  </thead>\n",
              "  <tbody>\n",
              "    <tr>\n",
              "      <th>0</th>\n",
              "      <td>0.99</td>\n",
              "      <td>0.99</td>\n",
              "      <td>0.99</td>\n",
              "    </tr>\n",
              "    <tr>\n",
              "      <th>1</th>\n",
              "      <td>0.95</td>\n",
              "      <td>0.94</td>\n",
              "      <td>0.94</td>\n",
              "    </tr>\n",
              "    <tr>\n",
              "      <th>2</th>\n",
              "      <td>0.83</td>\n",
              "      <td>0.69</td>\n",
              "      <td>0.73</td>\n",
              "    </tr>\n",
              "    <tr>\n",
              "      <th>3</th>\n",
              "      <td>0.83</td>\n",
              "      <td>0.85</td>\n",
              "      <td>0.83</td>\n",
              "    </tr>\n",
              "    <tr>\n",
              "      <th>4</th>\n",
              "      <td>0.66</td>\n",
              "      <td>0.54</td>\n",
              "      <td>0.54</td>\n",
              "    </tr>\n",
              "  </tbody>\n",
              "</table>\n",
              "</div>\n",
              "    <div class=\"colab-df-buttons\">\n",
              "\n",
              "  <div class=\"colab-df-container\">\n",
              "    <button class=\"colab-df-convert\" onclick=\"convertToInteractive('df-b659b975-df50-446b-ba13-10a38e5adbef')\"\n",
              "            title=\"Convert this dataframe to an interactive table.\"\n",
              "            style=\"display:none;\">\n",
              "\n",
              "  <svg xmlns=\"http://www.w3.org/2000/svg\" height=\"24px\" viewBox=\"0 -960 960 960\">\n",
              "    <path d=\"M120-120v-720h720v720H120Zm60-500h600v-160H180v160Zm220 220h160v-160H400v160Zm0 220h160v-160H400v160ZM180-400h160v-160H180v160Zm440 0h160v-160H620v160ZM180-180h160v-160H180v160Zm440 0h160v-160H620v160Z\"/>\n",
              "  </svg>\n",
              "    </button>\n",
              "\n",
              "  <style>\n",
              "    .colab-df-container {\n",
              "      display:flex;\n",
              "      gap: 12px;\n",
              "    }\n",
              "\n",
              "    .colab-df-convert {\n",
              "      background-color: #E8F0FE;\n",
              "      border: none;\n",
              "      border-radius: 50%;\n",
              "      cursor: pointer;\n",
              "      display: none;\n",
              "      fill: #1967D2;\n",
              "      height: 32px;\n",
              "      padding: 0 0 0 0;\n",
              "      width: 32px;\n",
              "    }\n",
              "\n",
              "    .colab-df-convert:hover {\n",
              "      background-color: #E2EBFA;\n",
              "      box-shadow: 0px 1px 2px rgba(60, 64, 67, 0.3), 0px 1px 3px 1px rgba(60, 64, 67, 0.15);\n",
              "      fill: #174EA6;\n",
              "    }\n",
              "\n",
              "    .colab-df-buttons div {\n",
              "      margin-bottom: 4px;\n",
              "    }\n",
              "\n",
              "    [theme=dark] .colab-df-convert {\n",
              "      background-color: #3B4455;\n",
              "      fill: #D2E3FC;\n",
              "    }\n",
              "\n",
              "    [theme=dark] .colab-df-convert:hover {\n",
              "      background-color: #434B5C;\n",
              "      box-shadow: 0px 1px 3px 1px rgba(0, 0, 0, 0.15);\n",
              "      filter: drop-shadow(0px 1px 2px rgba(0, 0, 0, 0.3));\n",
              "      fill: #FFFFFF;\n",
              "    }\n",
              "  </style>\n",
              "\n",
              "    <script>\n",
              "      const buttonEl =\n",
              "        document.querySelector('#df-b659b975-df50-446b-ba13-10a38e5adbef button.colab-df-convert');\n",
              "      buttonEl.style.display =\n",
              "        google.colab.kernel.accessAllowed ? 'block' : 'none';\n",
              "\n",
              "      async function convertToInteractive(key) {\n",
              "        const element = document.querySelector('#df-b659b975-df50-446b-ba13-10a38e5adbef');\n",
              "        const dataTable =\n",
              "          await google.colab.kernel.invokeFunction('convertToInteractive',\n",
              "                                                    [key], {});\n",
              "        if (!dataTable) return;\n",
              "\n",
              "        const docLinkHtml = 'Like what you see? Visit the ' +\n",
              "          '<a target=\"_blank\" href=https://colab.research.google.com/notebooks/data_table.ipynb>data table notebook</a>'\n",
              "          + ' to learn more about interactive tables.';\n",
              "        element.innerHTML = '';\n",
              "        dataTable['output_type'] = 'display_data';\n",
              "        await google.colab.output.renderOutput(dataTable, element);\n",
              "        const docLink = document.createElement('div');\n",
              "        docLink.innerHTML = docLinkHtml;\n",
              "        element.appendChild(docLink);\n",
              "      }\n",
              "    </script>\n",
              "  </div>\n",
              "\n",
              "\n",
              "<div id=\"df-33dcc485-3f13-4d7e-a56d-42ebaa62cd1e\">\n",
              "  <button class=\"colab-df-quickchart\" onclick=\"quickchart('df-33dcc485-3f13-4d7e-a56d-42ebaa62cd1e')\"\n",
              "            title=\"Suggest charts\"\n",
              "            style=\"display:none;\">\n",
              "\n",
              "<svg xmlns=\"http://www.w3.org/2000/svg\" height=\"24px\"viewBox=\"0 0 24 24\"\n",
              "     width=\"24px\">\n",
              "    <g>\n",
              "        <path d=\"M19 3H5c-1.1 0-2 .9-2 2v14c0 1.1.9 2 2 2h14c1.1 0 2-.9 2-2V5c0-1.1-.9-2-2-2zM9 17H7v-7h2v7zm4 0h-2V7h2v10zm4 0h-2v-4h2v4z\"/>\n",
              "    </g>\n",
              "</svg>\n",
              "  </button>\n",
              "\n",
              "<style>\n",
              "  .colab-df-quickchart {\n",
              "      --bg-color: #E8F0FE;\n",
              "      --fill-color: #1967D2;\n",
              "      --hover-bg-color: #E2EBFA;\n",
              "      --hover-fill-color: #174EA6;\n",
              "      --disabled-fill-color: #AAA;\n",
              "      --disabled-bg-color: #DDD;\n",
              "  }\n",
              "\n",
              "  [theme=dark] .colab-df-quickchart {\n",
              "      --bg-color: #3B4455;\n",
              "      --fill-color: #D2E3FC;\n",
              "      --hover-bg-color: #434B5C;\n",
              "      --hover-fill-color: #FFFFFF;\n",
              "      --disabled-bg-color: #3B4455;\n",
              "      --disabled-fill-color: #666;\n",
              "  }\n",
              "\n",
              "  .colab-df-quickchart {\n",
              "    background-color: var(--bg-color);\n",
              "    border: none;\n",
              "    border-radius: 50%;\n",
              "    cursor: pointer;\n",
              "    display: none;\n",
              "    fill: var(--fill-color);\n",
              "    height: 32px;\n",
              "    padding: 0;\n",
              "    width: 32px;\n",
              "  }\n",
              "\n",
              "  .colab-df-quickchart:hover {\n",
              "    background-color: var(--hover-bg-color);\n",
              "    box-shadow: 0 1px 2px rgba(60, 64, 67, 0.3), 0 1px 3px 1px rgba(60, 64, 67, 0.15);\n",
              "    fill: var(--button-hover-fill-color);\n",
              "  }\n",
              "\n",
              "  .colab-df-quickchart-complete:disabled,\n",
              "  .colab-df-quickchart-complete:disabled:hover {\n",
              "    background-color: var(--disabled-bg-color);\n",
              "    fill: var(--disabled-fill-color);\n",
              "    box-shadow: none;\n",
              "  }\n",
              "\n",
              "  .colab-df-spinner {\n",
              "    border: 2px solid var(--fill-color);\n",
              "    border-color: transparent;\n",
              "    border-bottom-color: var(--fill-color);\n",
              "    animation:\n",
              "      spin 1s steps(1) infinite;\n",
              "  }\n",
              "\n",
              "  @keyframes spin {\n",
              "    0% {\n",
              "      border-color: transparent;\n",
              "      border-bottom-color: var(--fill-color);\n",
              "      border-left-color: var(--fill-color);\n",
              "    }\n",
              "    20% {\n",
              "      border-color: transparent;\n",
              "      border-left-color: var(--fill-color);\n",
              "      border-top-color: var(--fill-color);\n",
              "    }\n",
              "    30% {\n",
              "      border-color: transparent;\n",
              "      border-left-color: var(--fill-color);\n",
              "      border-top-color: var(--fill-color);\n",
              "      border-right-color: var(--fill-color);\n",
              "    }\n",
              "    40% {\n",
              "      border-color: transparent;\n",
              "      border-right-color: var(--fill-color);\n",
              "      border-top-color: var(--fill-color);\n",
              "    }\n",
              "    60% {\n",
              "      border-color: transparent;\n",
              "      border-right-color: var(--fill-color);\n",
              "    }\n",
              "    80% {\n",
              "      border-color: transparent;\n",
              "      border-right-color: var(--fill-color);\n",
              "      border-bottom-color: var(--fill-color);\n",
              "    }\n",
              "    90% {\n",
              "      border-color: transparent;\n",
              "      border-bottom-color: var(--fill-color);\n",
              "    }\n",
              "  }\n",
              "</style>\n",
              "\n",
              "  <script>\n",
              "    async function quickchart(key) {\n",
              "      const quickchartButtonEl =\n",
              "        document.querySelector('#' + key + ' button');\n",
              "      quickchartButtonEl.disabled = true;  // To prevent multiple clicks.\n",
              "      quickchartButtonEl.classList.add('colab-df-spinner');\n",
              "      try {\n",
              "        const charts = await google.colab.kernel.invokeFunction(\n",
              "            'suggestCharts', [key], {});\n",
              "      } catch (error) {\n",
              "        console.error('Error during call to suggestCharts:', error);\n",
              "      }\n",
              "      quickchartButtonEl.classList.remove('colab-df-spinner');\n",
              "      quickchartButtonEl.classList.add('colab-df-quickchart-complete');\n",
              "    }\n",
              "    (() => {\n",
              "      let quickchartButtonEl =\n",
              "        document.querySelector('#df-33dcc485-3f13-4d7e-a56d-42ebaa62cd1e button');\n",
              "      quickchartButtonEl.style.display =\n",
              "        google.colab.kernel.accessAllowed ? 'block' : 'none';\n",
              "    })();\n",
              "  </script>\n",
              "</div>\n",
              "    </div>\n",
              "  </div>\n"
            ],
            "application/vnd.google.colaboratory.intrinsic+json": {
              "type": "dataframe",
              "variable_name": "val_metric",
              "summary": "{\n  \"name\": \"val_metric\",\n  \"rows\": 5,\n  \"fields\": [\n    {\n      \"column\": \"Class\",\n      \"properties\": {\n        \"dtype\": \"string\",\n        \"num_unique_values\": 5,\n        \"samples\": [\n          \"1\",\n          \"4\",\n          \"2\"\n        ],\n        \"semantic_type\": \"\",\n        \"description\": \"\"\n      }\n    },\n    {\n      \"column\": \"precision\",\n      \"properties\": {\n        \"dtype\": \"number\",\n        \"std\": 0.12891857895586653,\n        \"min\": 0.66,\n        \"max\": 0.99,\n        \"num_unique_values\": 4,\n        \"samples\": [\n          0.95,\n          0.66,\n          0.99\n        ],\n        \"semantic_type\": \"\",\n        \"description\": \"\"\n      }\n    },\n    {\n      \"column\": \"recall\",\n      \"properties\": {\n        \"dtype\": \"number\",\n        \"std\": 0.18566098136118958,\n        \"min\": 0.54,\n        \"max\": 0.99,\n        \"num_unique_values\": 5,\n        \"samples\": [\n          0.94,\n          0.54,\n          0.69\n        ],\n        \"semantic_type\": \"\",\n        \"description\": \"\"\n      }\n    },\n    {\n      \"column\": \"f1-score\",\n      \"properties\": {\n        \"dtype\": \"number\",\n        \"std\": 0.17952715672009067,\n        \"min\": 0.54,\n        \"max\": 0.99,\n        \"num_unique_values\": 5,\n        \"samples\": [\n          0.94,\n          0.54,\n          0.73\n        ],\n        \"semantic_type\": \"\",\n        \"description\": \"\"\n      }\n    }\n  ]\n}"
            }
          },
          "metadata": {},
          "execution_count": 18
        }
      ]
    },
    {
      "cell_type": "markdown",
      "source": [
        "##Test"
      ],
      "metadata": {
        "id": "5E7gIFoKvPQp"
      }
    },
    {
      "cell_type": "code",
      "source": [
        "# Load data\n",
        "json_path = os.path.join(repo_dir, 'negacio_test_v2024.json')\n",
        "\n",
        "with open(json_path, 'r') as json_file:\n",
        "    json_object = json.load(json_file)"
      ],
      "metadata": {
        "id": "VNp55-B2eVb6"
      },
      "execution_count": null,
      "outputs": []
    },
    {
      "cell_type": "code",
      "source": [
        "X = []\n",
        "y = []\n",
        "\n",
        "for entry in json_object:\n",
        "    text = entry.get('data')['text']\n",
        "    doc = nlp_es(text)\n",
        "\n",
        "    # Create vectors of true labels\n",
        "    true = np.zeros(len(doc), dtype=int)\n",
        "\n",
        "    for prediction in entry.get('predictions', []):\n",
        "        for label_data in prediction['result']:\n",
        "          label_value = label_data['value']\n",
        "          labels = label_value['labels']\n",
        "          start_index = label_value['start']\n",
        "          end_index = label_value['end']\n",
        "          text2 = text[start_index:end_index]  # Extract text based on start and end indexes\n",
        "\n",
        "          # Add words to corresponding sets based on labels\n",
        "          for label in labels:\n",
        "              if label == \"NEG\":\n",
        "                  start, end = convert_char_to_token(doc, text, (start_index, end_index)) # get index of negation in token form\n",
        "                  true[start:end] = 1\n",
        "              if label == \"UNC\":\n",
        "                  start, end = convert_char_to_token(doc, text, (start_index, end_index)) # get index of uncertainty in token form\n",
        "                  true[start:end] = 2\n",
        "              if label == \"NSCO\":\n",
        "                  start, end = convert_char_to_token(doc, text, (start_index, end_index)) # get index of negation scope in token form\n",
        "                  true[start:end] = 3\n",
        "              if label == \"USCO\":\n",
        "                  start, end = convert_char_to_token(doc, text, (start_index, end_index)) # get index of uncertainty scope in token form\n",
        "                  true[start:end] = 4\n",
        "\n",
        "\n",
        "    tokens_list = [token.text.lower() for token in doc] # Doc has object type, to work with word embeddings, we need a list of tokens. The lower() is to ensure consistency\n",
        "\n",
        "    X.append(tokens_list)\n",
        "    true = list(true)\n",
        "    y.append(true)\n",
        "\n",
        "y = [[str(element) for element in sequence] for sequence in y]\n"
      ],
      "metadata": {
        "id": "hOjvmgavifLM"
      },
      "execution_count": null,
      "outputs": []
    },
    {
      "cell_type": "code",
      "source": [
        "X_test = X"
      ],
      "metadata": {
        "id": "7kReLTmgivO2"
      },
      "execution_count": null,
      "outputs": []
    },
    {
      "cell_type": "code",
      "source": [
        "y_test = y"
      ],
      "metadata": {
        "id": "cBpZ2SvKiw7l"
      },
      "execution_count": null,
      "outputs": []
    },
    {
      "cell_type": "code",
      "source": [
        "predictions_test = predict_tags(model, X_test, word_to_ix)"
      ],
      "metadata": {
        "id": "Gkf0nhIuea60",
        "collapsed": true
      },
      "execution_count": null,
      "outputs": []
    },
    {
      "cell_type": "code",
      "source": [
        "report_test = create_report(len(X_test), y_test, predictions_test)"
      ],
      "metadata": {
        "id": "WzSPJEoBfpxs"
      },
      "execution_count": null,
      "outputs": []
    },
    {
      "cell_type": "code",
      "source": [
        "test_metric = report_test.groupby('Class')[['precision', 'recall', 'f1-score']].mean().round(2)\n",
        "print(\"Test set average metrics\")\n",
        "test_metric"
      ],
      "metadata": {
        "colab": {
          "base_uri": "https://localhost:8080/",
          "height": 255
        },
        "id": "7RMWzs60gDG0",
        "outputId": "5a7565b4-c962-4263-a3a4-d53654c9264d"
      },
      "execution_count": null,
      "outputs": [
        {
          "output_type": "stream",
          "name": "stdout",
          "text": [
            "Test set average metrics\n"
          ]
        },
        {
          "output_type": "execute_result",
          "data": {
            "text/plain": [
              "       precision  recall  f1-score\n",
              "Class                             \n",
              "0           0.99    0.99      0.99\n",
              "1           0.95    0.96      0.95\n",
              "2           0.88    0.68      0.75\n",
              "3           0.84    0.87      0.84\n",
              "4           0.83    0.55      0.63"
            ],
            "text/html": [
              "\n",
              "  <div id=\"df-8dd5c42b-b2c9-42de-ace3-f9bc34015c05\" class=\"colab-df-container\">\n",
              "    <div>\n",
              "<style scoped>\n",
              "    .dataframe tbody tr th:only-of-type {\n",
              "        vertical-align: middle;\n",
              "    }\n",
              "\n",
              "    .dataframe tbody tr th {\n",
              "        vertical-align: top;\n",
              "    }\n",
              "\n",
              "    .dataframe thead th {\n",
              "        text-align: right;\n",
              "    }\n",
              "</style>\n",
              "<table border=\"1\" class=\"dataframe\">\n",
              "  <thead>\n",
              "    <tr style=\"text-align: right;\">\n",
              "      <th></th>\n",
              "      <th>precision</th>\n",
              "      <th>recall</th>\n",
              "      <th>f1-score</th>\n",
              "    </tr>\n",
              "    <tr>\n",
              "      <th>Class</th>\n",
              "      <th></th>\n",
              "      <th></th>\n",
              "      <th></th>\n",
              "    </tr>\n",
              "  </thead>\n",
              "  <tbody>\n",
              "    <tr>\n",
              "      <th>0</th>\n",
              "      <td>0.99</td>\n",
              "      <td>0.99</td>\n",
              "      <td>0.99</td>\n",
              "    </tr>\n",
              "    <tr>\n",
              "      <th>1</th>\n",
              "      <td>0.95</td>\n",
              "      <td>0.96</td>\n",
              "      <td>0.95</td>\n",
              "    </tr>\n",
              "    <tr>\n",
              "      <th>2</th>\n",
              "      <td>0.88</td>\n",
              "      <td>0.68</td>\n",
              "      <td>0.75</td>\n",
              "    </tr>\n",
              "    <tr>\n",
              "      <th>3</th>\n",
              "      <td>0.84</td>\n",
              "      <td>0.87</td>\n",
              "      <td>0.84</td>\n",
              "    </tr>\n",
              "    <tr>\n",
              "      <th>4</th>\n",
              "      <td>0.83</td>\n",
              "      <td>0.55</td>\n",
              "      <td>0.63</td>\n",
              "    </tr>\n",
              "  </tbody>\n",
              "</table>\n",
              "</div>\n",
              "    <div class=\"colab-df-buttons\">\n",
              "\n",
              "  <div class=\"colab-df-container\">\n",
              "    <button class=\"colab-df-convert\" onclick=\"convertToInteractive('df-8dd5c42b-b2c9-42de-ace3-f9bc34015c05')\"\n",
              "            title=\"Convert this dataframe to an interactive table.\"\n",
              "            style=\"display:none;\">\n",
              "\n",
              "  <svg xmlns=\"http://www.w3.org/2000/svg\" height=\"24px\" viewBox=\"0 -960 960 960\">\n",
              "    <path d=\"M120-120v-720h720v720H120Zm60-500h600v-160H180v160Zm220 220h160v-160H400v160Zm0 220h160v-160H400v160ZM180-400h160v-160H180v160Zm440 0h160v-160H620v160ZM180-180h160v-160H180v160Zm440 0h160v-160H620v160Z\"/>\n",
              "  </svg>\n",
              "    </button>\n",
              "\n",
              "  <style>\n",
              "    .colab-df-container {\n",
              "      display:flex;\n",
              "      gap: 12px;\n",
              "    }\n",
              "\n",
              "    .colab-df-convert {\n",
              "      background-color: #E8F0FE;\n",
              "      border: none;\n",
              "      border-radius: 50%;\n",
              "      cursor: pointer;\n",
              "      display: none;\n",
              "      fill: #1967D2;\n",
              "      height: 32px;\n",
              "      padding: 0 0 0 0;\n",
              "      width: 32px;\n",
              "    }\n",
              "\n",
              "    .colab-df-convert:hover {\n",
              "      background-color: #E2EBFA;\n",
              "      box-shadow: 0px 1px 2px rgba(60, 64, 67, 0.3), 0px 1px 3px 1px rgba(60, 64, 67, 0.15);\n",
              "      fill: #174EA6;\n",
              "    }\n",
              "\n",
              "    .colab-df-buttons div {\n",
              "      margin-bottom: 4px;\n",
              "    }\n",
              "\n",
              "    [theme=dark] .colab-df-convert {\n",
              "      background-color: #3B4455;\n",
              "      fill: #D2E3FC;\n",
              "    }\n",
              "\n",
              "    [theme=dark] .colab-df-convert:hover {\n",
              "      background-color: #434B5C;\n",
              "      box-shadow: 0px 1px 3px 1px rgba(0, 0, 0, 0.15);\n",
              "      filter: drop-shadow(0px 1px 2px rgba(0, 0, 0, 0.3));\n",
              "      fill: #FFFFFF;\n",
              "    }\n",
              "  </style>\n",
              "\n",
              "    <script>\n",
              "      const buttonEl =\n",
              "        document.querySelector('#df-8dd5c42b-b2c9-42de-ace3-f9bc34015c05 button.colab-df-convert');\n",
              "      buttonEl.style.display =\n",
              "        google.colab.kernel.accessAllowed ? 'block' : 'none';\n",
              "\n",
              "      async function convertToInteractive(key) {\n",
              "        const element = document.querySelector('#df-8dd5c42b-b2c9-42de-ace3-f9bc34015c05');\n",
              "        const dataTable =\n",
              "          await google.colab.kernel.invokeFunction('convertToInteractive',\n",
              "                                                    [key], {});\n",
              "        if (!dataTable) return;\n",
              "\n",
              "        const docLinkHtml = 'Like what you see? Visit the ' +\n",
              "          '<a target=\"_blank\" href=https://colab.research.google.com/notebooks/data_table.ipynb>data table notebook</a>'\n",
              "          + ' to learn more about interactive tables.';\n",
              "        element.innerHTML = '';\n",
              "        dataTable['output_type'] = 'display_data';\n",
              "        await google.colab.output.renderOutput(dataTable, element);\n",
              "        const docLink = document.createElement('div');\n",
              "        docLink.innerHTML = docLinkHtml;\n",
              "        element.appendChild(docLink);\n",
              "      }\n",
              "    </script>\n",
              "  </div>\n",
              "\n",
              "\n",
              "<div id=\"df-a4539736-d05e-40db-abaa-d0cb352af9be\">\n",
              "  <button class=\"colab-df-quickchart\" onclick=\"quickchart('df-a4539736-d05e-40db-abaa-d0cb352af9be')\"\n",
              "            title=\"Suggest charts\"\n",
              "            style=\"display:none;\">\n",
              "\n",
              "<svg xmlns=\"http://www.w3.org/2000/svg\" height=\"24px\"viewBox=\"0 0 24 24\"\n",
              "     width=\"24px\">\n",
              "    <g>\n",
              "        <path d=\"M19 3H5c-1.1 0-2 .9-2 2v14c0 1.1.9 2 2 2h14c1.1 0 2-.9 2-2V5c0-1.1-.9-2-2-2zM9 17H7v-7h2v7zm4 0h-2V7h2v10zm4 0h-2v-4h2v4z\"/>\n",
              "    </g>\n",
              "</svg>\n",
              "  </button>\n",
              "\n",
              "<style>\n",
              "  .colab-df-quickchart {\n",
              "      --bg-color: #E8F0FE;\n",
              "      --fill-color: #1967D2;\n",
              "      --hover-bg-color: #E2EBFA;\n",
              "      --hover-fill-color: #174EA6;\n",
              "      --disabled-fill-color: #AAA;\n",
              "      --disabled-bg-color: #DDD;\n",
              "  }\n",
              "\n",
              "  [theme=dark] .colab-df-quickchart {\n",
              "      --bg-color: #3B4455;\n",
              "      --fill-color: #D2E3FC;\n",
              "      --hover-bg-color: #434B5C;\n",
              "      --hover-fill-color: #FFFFFF;\n",
              "      --disabled-bg-color: #3B4455;\n",
              "      --disabled-fill-color: #666;\n",
              "  }\n",
              "\n",
              "  .colab-df-quickchart {\n",
              "    background-color: var(--bg-color);\n",
              "    border: none;\n",
              "    border-radius: 50%;\n",
              "    cursor: pointer;\n",
              "    display: none;\n",
              "    fill: var(--fill-color);\n",
              "    height: 32px;\n",
              "    padding: 0;\n",
              "    width: 32px;\n",
              "  }\n",
              "\n",
              "  .colab-df-quickchart:hover {\n",
              "    background-color: var(--hover-bg-color);\n",
              "    box-shadow: 0 1px 2px rgba(60, 64, 67, 0.3), 0 1px 3px 1px rgba(60, 64, 67, 0.15);\n",
              "    fill: var(--button-hover-fill-color);\n",
              "  }\n",
              "\n",
              "  .colab-df-quickchart-complete:disabled,\n",
              "  .colab-df-quickchart-complete:disabled:hover {\n",
              "    background-color: var(--disabled-bg-color);\n",
              "    fill: var(--disabled-fill-color);\n",
              "    box-shadow: none;\n",
              "  }\n",
              "\n",
              "  .colab-df-spinner {\n",
              "    border: 2px solid var(--fill-color);\n",
              "    border-color: transparent;\n",
              "    border-bottom-color: var(--fill-color);\n",
              "    animation:\n",
              "      spin 1s steps(1) infinite;\n",
              "  }\n",
              "\n",
              "  @keyframes spin {\n",
              "    0% {\n",
              "      border-color: transparent;\n",
              "      border-bottom-color: var(--fill-color);\n",
              "      border-left-color: var(--fill-color);\n",
              "    }\n",
              "    20% {\n",
              "      border-color: transparent;\n",
              "      border-left-color: var(--fill-color);\n",
              "      border-top-color: var(--fill-color);\n",
              "    }\n",
              "    30% {\n",
              "      border-color: transparent;\n",
              "      border-left-color: var(--fill-color);\n",
              "      border-top-color: var(--fill-color);\n",
              "      border-right-color: var(--fill-color);\n",
              "    }\n",
              "    40% {\n",
              "      border-color: transparent;\n",
              "      border-right-color: var(--fill-color);\n",
              "      border-top-color: var(--fill-color);\n",
              "    }\n",
              "    60% {\n",
              "      border-color: transparent;\n",
              "      border-right-color: var(--fill-color);\n",
              "    }\n",
              "    80% {\n",
              "      border-color: transparent;\n",
              "      border-right-color: var(--fill-color);\n",
              "      border-bottom-color: var(--fill-color);\n",
              "    }\n",
              "    90% {\n",
              "      border-color: transparent;\n",
              "      border-bottom-color: var(--fill-color);\n",
              "    }\n",
              "  }\n",
              "</style>\n",
              "\n",
              "  <script>\n",
              "    async function quickchart(key) {\n",
              "      const quickchartButtonEl =\n",
              "        document.querySelector('#' + key + ' button');\n",
              "      quickchartButtonEl.disabled = true;  // To prevent multiple clicks.\n",
              "      quickchartButtonEl.classList.add('colab-df-spinner');\n",
              "      try {\n",
              "        const charts = await google.colab.kernel.invokeFunction(\n",
              "            'suggestCharts', [key], {});\n",
              "      } catch (error) {\n",
              "        console.error('Error during call to suggestCharts:', error);\n",
              "      }\n",
              "      quickchartButtonEl.classList.remove('colab-df-spinner');\n",
              "      quickchartButtonEl.classList.add('colab-df-quickchart-complete');\n",
              "    }\n",
              "    (() => {\n",
              "      let quickchartButtonEl =\n",
              "        document.querySelector('#df-a4539736-d05e-40db-abaa-d0cb352af9be button');\n",
              "      quickchartButtonEl.style.display =\n",
              "        google.colab.kernel.accessAllowed ? 'block' : 'none';\n",
              "    })();\n",
              "  </script>\n",
              "</div>\n",
              "    </div>\n",
              "  </div>\n"
            ],
            "application/vnd.google.colaboratory.intrinsic+json": {
              "type": "dataframe",
              "variable_name": "test_metric",
              "summary": "{\n  \"name\": \"test_metric\",\n  \"rows\": 5,\n  \"fields\": [\n    {\n      \"column\": \"Class\",\n      \"properties\": {\n        \"dtype\": \"string\",\n        \"num_unique_values\": 5,\n        \"samples\": [\n          \"1\",\n          \"4\",\n          \"2\"\n        ],\n        \"semantic_type\": \"\",\n        \"description\": \"\"\n      }\n    },\n    {\n      \"column\": \"precision\",\n      \"properties\": {\n        \"dtype\": \"number\",\n        \"std\": 0.06978538528947162,\n        \"min\": 0.83,\n        \"max\": 0.99,\n        \"num_unique_values\": 5,\n        \"samples\": [\n          0.95,\n          0.83,\n          0.88\n        ],\n        \"semantic_type\": \"\",\n        \"description\": \"\"\n      }\n    },\n    {\n      \"column\": \"recall\",\n      \"properties\": {\n        \"dtype\": \"number\",\n        \"std\": 0.18907670401189033,\n        \"min\": 0.55,\n        \"max\": 0.99,\n        \"num_unique_values\": 5,\n        \"samples\": [\n          0.96,\n          0.55,\n          0.68\n        ],\n        \"semantic_type\": \"\",\n        \"description\": \"\"\n      }\n    },\n    {\n      \"column\": \"f1-score\",\n      \"properties\": {\n        \"dtype\": \"number\",\n        \"std\": 0.1470374102057024,\n        \"min\": 0.63,\n        \"max\": 0.99,\n        \"num_unique_values\": 5,\n        \"samples\": [\n          0.95,\n          0.63,\n          0.75\n        ],\n        \"semantic_type\": \"\",\n        \"description\": \"\"\n      }\n    }\n  ]\n}"
            }
          },
          "metadata": {},
          "execution_count": 30
        }
      ]
    },
    {
      "cell_type": "markdown",
      "source": [
        "##Results visualisation"
      ],
      "metadata": {
        "id": "CWq-zkV8EkXR"
      }
    },
    {
      "cell_type": "code",
      "source": [
        "def add_tags(tokens, predictions, line_length=80):\n",
        "    tagged_text = \"\"\n",
        "    line_length_remaining = line_length\n",
        "    for i in range(len(tokens)):\n",
        "        word = str(tokens[i])\n",
        "        tags = []\n",
        "\n",
        "        if predictions[i] == '1':\n",
        "            tags.append('\\033[91m')  # Light red color for NEG\n",
        "        if predictions[i] == '2':\n",
        "            tags.append('\\033[94m')  # Light blue color for UNC\n",
        "        if predictions[i] == '3':\n",
        "            tags.append('\\033[92m')  # Light green color for NSCO\n",
        "        if predictions[i] == '4':\n",
        "            tags.append('\\033[38;5;208m')  # Orange color for USCO (ANSI color code)\n",
        "\n",
        "        # Check if adding the word and tags exceeds the line length\n",
        "        if len(word) + len(tags) * 9 + 1 > line_length_remaining:\n",
        "            # Start a new line\n",
        "            tagged_text += '\\n'\n",
        "            line_length_remaining = line_length\n",
        "\n",
        "        if i+1 < len(tokens):\n",
        "          if str(tokens[i+1]) in \",.?!:;*\":\n",
        "              space = \"\"\n",
        "          else:\n",
        "              space = \" \"\n",
        "\n",
        "        if len(tags) > 0:\n",
        "            for tag in tags:\n",
        "                tagged_text += tag + word + '\\033[0m' + space\n",
        "        else:\n",
        "            tagged_text += word + space\n",
        "\n",
        "        # Adjust line_length_remaining considering ANSI escape codes\n",
        "        line_length_remaining -= len(word) + len(tags) * (7 if len(tags) > 0 else 0) + 1\n",
        "\n",
        "        # Calculate the length of the word considering ANSI escape codes\n",
        "        word_length = len(word) + len(tags) #* 9\n",
        "\n",
        "        # Check if adding the word and tags exceeds the line length\n",
        "        if word_length > line_length_remaining:\n",
        "            # Start a new line\n",
        "            tagged_text += '\\n'\n",
        "            line_length_remaining = line_length\n",
        "\n",
        "    return tagged_text\n",
        "\n",
        "# Print the legend\n",
        "def print_legend():\n",
        "    print(\"Color legend:\")\n",
        "    print(\"\\033[91mNEG\\033[0m \")\n",
        "    print(\"\\033[94mUNC\\033[0m \")\n",
        "    print(\"\\033[92mNSCO\\033[0m \")\n",
        "    print(\"\\033[38;5;208mUSCO\\033[0m \\n\")\n"
      ],
      "metadata": {
        "id": "NBMa8TlZEmBn"
      },
      "execution_count": null,
      "outputs": []
    },
    {
      "cell_type": "code",
      "source": [
        "import random\n",
        "n = random.randint(0, len(y_test))\n",
        "#n = 45\n",
        "\n",
        "text = json_object[n].get('data')['text']\n",
        "tokens = nlp_es(text)\n",
        "\n",
        "# Print out the legend\n",
        "print_legend()\n",
        "\n",
        "print('\\033[1mDetected neg/unc/nsco/usco for document ' + str(n) + '\\033[0m')\n",
        "\n",
        "# Print out the entire text with added tags\n",
        "print(add_tags(tokens, predictions_test[n], line_length=140))"
      ],
      "metadata": {
        "colab": {
          "base_uri": "https://localhost:8080/"
        },
        "id": "c3YvIHucEnh2",
        "outputId": "0d62d162-18c2-431f-e72f-2d1be9fafa9c"
      },
      "execution_count": null,
      "outputs": [
        {
          "output_type": "stream",
          "name": "stdout",
          "text": [
            "Color legend:\n",
            "\u001b[91mNEG\u001b[0m \n",
            "\u001b[94mUNC\u001b[0m \n",
            "\u001b[92mNSCO\u001b[0m \n",
            "\u001b[38;5;208mUSCO\u001b[0m \n",
            "\n",
            "\u001b[1mDetected neg/unc/nsco/usco for document 45\u001b[0m\n",
            "  nº historia clinica:******** nºepisodi:******** sexe: home data de naixement: 19.02.1957 edat: 61 anys procedencia \n",
            "cex mateix hosp servei urologia data d'ingres 20.04.2018 data d'alta 24.04.2018 12:00:00 ates per**************,******\n",
            "*;************,***** informe d'alta d'hospitalitzacio motiu d'ingres paciente que ingresa de forma programada para \n",
            "nefrectomia parcial derecha laparoscopica asistida por robot. antecedents \u001b[91mno\u001b[0m \u001b[92malergias\u001b[0m \u001b[92mmedicamentosas\u001b[0m \n",
            "\u001b[92mconocidas\u001b[0m. fumador 6 cigarrillos al dia. \u001b[91mno\u001b[0m \u001b[92mantecedentes\u001b[0m \u001b[92mquirurgicos\u001b[0m. proces actual paciente que a raiz de \n",
            "tumefaccion en falange de dedo indice de mano derecha se realiza estudio con tc que detecta tumoracion renal derecha de 34 mm \n",
            "\u001b[94msugestiva\u001b[0m \u001b[94mde\u001b[0m \u001b[38;5;208mmalignidad\u001b[0m\u001b[38;5;208m.\u001b[0m se realiza biospia de lesion de falange pendiente de informe definitivo. se decide \n",
            "realizacion de nefrectomia parcial de dicho tumor renal. exploracio complementaria tc abdomen ( 05/03/2018 ): tumoracion solida renal \n",
            "derecha de 32 x 34 x 25 mm. \u001b[94mcompatible\u001b[0m \u001b[94mcon\u001b[0m \u001b[38;5;208mhipernefroma\u001b[0m\u001b[38;5;208m.\u001b[0m imagen litica de 5 mm en en margen posterior \n",
            "de hemicuerpo vertebral d10, en la raiz del pediculo derecho, de 60 uh, y otra similar, mas \u001b[94mdudosa\u001b[0m \u001b[38;5;208men\u001b[0m \u001b[38;5;208mla\u001b[0m \n",
            "\u001b[38;5;208mmisma\u001b[0m \u001b[38;5;208mlocalizacion\u001b[0m \u001b[38;5;208men\u001b[0m d12, inespecificas, pero en el contexto, recomendamos completar estudio \u001b[94mvalorar\u001b[0m \n",
            "\u001b[94mposibles\u001b[0m \u001b[38;5;208mm1\u001b[0m \u001b[38;5;208moseas\u001b[0m\u001b[38;5;208m.\u001b[0m rmn ( 23/03/2018 ): - \u001b[91mno\u001b[0m \u001b[92mse\u001b[0m \u001b[92mobservan\u001b[0m \u001b[92mlesiones\u001b[0m \n",
            "\u001b[92mmetastasicas\u001b[0m \u001b[92moseas\u001b[0m \u001b[92ma\u001b[0m \u001b[92mnivel\u001b[0m \u001b[92mraquideo\u001b[0m. correlacionando el estudio con los hallazgos descritos en el tc, \n",
            "la lesion focal de 5 mm en el cuerpo de d10 presenta señal rm grasa \u001b[92msiendo\u001b[0m \u001b[94msugestivo\u001b[0m \u001b[92mde\u001b[0m \u001b[92mbenignidad\u001b[0m y \n",
            "\u001b[91mno\u001b[0m \u001b[92mse\u001b[0m \u001b[92mobservan\u001b[0m \u001b[92malteraciones\u001b[0m \u001b[92mde\u001b[0m \u001b[92mseñal\u001b[0m \u001b[92mrm\u001b[0m \u001b[92men\u001b[0m \u001b[92md12\u001b[0m. - moderados cambios \n",
            "degenerativos espondilodiscartrosicos cervicales y lumbares. evolucio clinica con estudio preoperatorio correcto y consentimiento \n",
            "informado firmado el 20/04/2018 se realiza nefrectomia parcial derecha laparoscopica asistida por robot \u001b[91msin\u001b[0m \u001b[92mincidencias\u001b[0m\n",
            ". buen curso postoperatorio. el paciente se mantiene hemodinamicamente estable, diuresis conservada, drenaje poco productivo que permite \n",
            "su retirada. retirada de sonda vesical \u001b[91msin\u001b[0m \u001b[92mincidencias\u001b[0m. a destacar episodio febril de 38ºc bien tolerado, \u001b[91msin\u001b[0m \n",
            "\u001b[92mtiritonas\u001b[0m\u001b[92m;\u001b[0m se realiza analitica que muestra 11l con minima neutrofilia, \u001b[91msin\u001b[0m \u001b[92motros\u001b[0m \u001b[92msignos\u001b[0m \n",
            "\u001b[92msepticos\u001b[0m\u001b[92m.\u001b[0m se inicia amoxi / clav empirico. \u001b[92mhemocultivo\u001b[0m \u001b[92my\u001b[0m \u001b[92murocultivo\u001b[0m \u001b[92mque\u001b[0m \u001b[92mresultan\u001b[0m \n",
            "\u001b[91mnegativos\u001b[0m. dada la buena evolucion clinica se decide alta a domicilio. orientacio diagnostica c64.1 neoplasia maligna, ronyo dret\n",
            ", excepte pelvis renal nhc******** (******** ) age-v-uro 1/2 lopd procediments nefrectomia parcial laparoscopica \n",
            "asistida por robot profilaxis antibiotica, antitrombotica, antiulcerosa tractament i recomanacions a l'alta ingesta abundante de liquidos \n",
            "entorno a dos litros y medio de agua al dia. reposo relativo durante las primeras semanas. paracetamol 1 g cada 8h si dolor. amoxicilina \n",
            "/ clavulanico 1comp/8h durante 7 dias mas si persistencia del dolor: metamizol 575 mg cada 8h alternado con paracetamol. retirada de \n",
            "grapas dentro de 10 dias en ambulatorio de zona. curas diarias de la herida con agua y jabon, mantener heridas secas, puede aplicar \n",
            "betadine. en caso de fiebre & gt;38º o complicacion acuda a urgencias. control a consultas externas de urologia segun programacion \n",
            "en hoja adjunta. destinacio a l'alta: a domicili nhc******** (******** ) age-v-uro 2/2 lopd \n"
          ]
        }
      ]
    },
    {
      "cell_type": "code",
      "source": [
        "text = json_object[n].get('data')['text']\n",
        "tokens = nlp_es(text)\n",
        "\n",
        "# Print out the legend\n",
        "print_legend()\n",
        "\n",
        "print('\\033[1mTrue neg/unc/nsco/usco for document ' + str(n) + '\\033[0m')\n",
        "\n",
        "# Print out the entire text with added tags\n",
        "print(add_tags(tokens, y_test[n], line_length=140))"
      ],
      "metadata": {
        "colab": {
          "base_uri": "https://localhost:8080/"
        },
        "id": "rJ9gpw2-FC5E",
        "outputId": "894e8454-5021-4ed4-e937-dd11be650b6a"
      },
      "execution_count": null,
      "outputs": [
        {
          "output_type": "stream",
          "name": "stdout",
          "text": [
            "Color legend:\n",
            "\u001b[91mNEG\u001b[0m \n",
            "\u001b[94mUNC\u001b[0m \n",
            "\u001b[92mNSCO\u001b[0m \n",
            "\u001b[38;5;208mUSCO\u001b[0m \n",
            "\n",
            "\u001b[1mTrue neg/unc/nsco/usco for document 45\u001b[0m\n",
            "  nº historia clinica:******** nºepisodi:******** sexe: home data de naixement: 19.02.1957 edat: 61 anys procedencia \n",
            "cex mateix hosp servei urologia data d'ingres 20.04.2018 data d'alta 24.04.2018 12:00:00 ates per**************,******\n",
            "*;************,***** informe d'alta d'hospitalitzacio motiu d'ingres paciente que ingresa de forma programada para \n",
            "nefrectomia parcial derecha laparoscopica asistida por robot. antecedents \u001b[91mno\u001b[0m \u001b[92malergias\u001b[0m \u001b[92mmedicamentosas\u001b[0m \n",
            "\u001b[92mconocidas\u001b[0m. fumador 6 cigarrillos al dia. \u001b[91mno\u001b[0m \u001b[92mantecedentes\u001b[0m \u001b[92mquirurgicos\u001b[0m. proces actual paciente que a raiz de \n",
            "tumefaccion en falange de dedo indice de mano derecha se realiza estudio con tc que detecta tumoracion renal derecha de 34 mm \n",
            "\u001b[94msugestiva\u001b[0m \u001b[94mde\u001b[0m \u001b[38;5;208mmalignidad\u001b[0m. se realiza biospia de lesion de falange pendiente de informe definitivo. se decide \n",
            "realizacion de nefrectomia parcial de dicho tumor renal. exploracio complementaria tc abdomen ( 05/03/2018 ): tumoracion solida renal \n",
            "derecha de 32 x 34 x 25 mm. \u001b[94mcompatible\u001b[0m \u001b[94mcon\u001b[0m \u001b[38;5;208mhipernefroma\u001b[0m. imagen litica de 5 mm en en margen posterior de hemicuerpo \n",
            "vertebral d10, en la raiz del pediculo derecho, de 60 uh, y otra similar, mas \u001b[94mdudosa\u001b[0m \u001b[38;5;208men\u001b[0m \u001b[38;5;208mla\u001b[0m \u001b[38;5;208mmisma\u001b[0m \n",
            "\u001b[38;5;208mlocalizacion\u001b[0m \u001b[38;5;208men\u001b[0m \u001b[38;5;208md12\u001b[0m, inespecificas, pero en el contexto, recomendamos completar estudio \u001b[94mvalorar\u001b[0m \n",
            "\u001b[38;5;208mposibles\u001b[0m \u001b[38;5;208mm1\u001b[0m \u001b[38;5;208moseas\u001b[0m. rmn ( 23/03/2018 ): - \u001b[91mno\u001b[0m \u001b[92mse\u001b[0m \u001b[92mobservan\u001b[0m \u001b[92mlesiones\u001b[0m \u001b[92mmetastasicas\u001b[0m \n",
            "\u001b[92moseas\u001b[0m \u001b[92ma\u001b[0m \u001b[92mnivel\u001b[0m \u001b[92mraquideo\u001b[0m. correlacionando el estudio con los hallazgos descritos en el tc, la lesion focal de 5 \n",
            "mm en el cuerpo de d10 presenta señal rm grasa siendo \u001b[94msugestivo\u001b[0m \u001b[94mde\u001b[0m \u001b[38;5;208mbenignidad\u001b[0m y \u001b[91mno\u001b[0m \u001b[92mse\u001b[0m \u001b[92mobservan\u001b[0m \n",
            "\u001b[92malteraciones\u001b[0m \u001b[92mde\u001b[0m \u001b[92mseñal\u001b[0m \u001b[92mrm\u001b[0m \u001b[92men\u001b[0m \u001b[92md12\u001b[0m\u001b[92m.\u001b[0m - moderados cambios degenerativos \n",
            "espondilodiscartrosicos cervicales y lumbares. evolucio clinica con estudio preoperatorio correcto y consentimiento informado firmado \n",
            "el 20/04/2018 se realiza nefrectomia parcial derecha laparoscopica asistida por robot \u001b[91msin\u001b[0m \u001b[92mincidencias\u001b[0m. buen curso \n",
            "postoperatorio. el paciente se mantiene hemodinamicamente estable, diuresis conservada, drenaje poco productivo que permite su retirada\n",
            ". retirada de sonda vesical \u001b[91msin\u001b[0m \u001b[92mincidencias\u001b[0m. a destacar episodio febril de 38ºc bien tolerado, \u001b[91msin\u001b[0m \n",
            "\u001b[92mtiritonas\u001b[0m; se realiza analitica que muestra 11l con minima neutrofilia, \u001b[91msin\u001b[0m \u001b[92motros\u001b[0m \u001b[92msignos\u001b[0m \u001b[92msepticos\u001b[0m\n",
            ". se inicia amoxi / clav empirico. \u001b[92mhemocultivo\u001b[0m \u001b[92my\u001b[0m \u001b[92murocultivo\u001b[0m que resultan \u001b[91mnegativos\u001b[0m. dada la buena evolucion \n",
            "clinica se decide alta a domicilio. orientacio diagnostica c64.1 neoplasia maligna, ronyo dret, excepte pelvis renal nhc******** \n",
            "(******** ) age-v-uro 1/2 lopd procediments nefrectomia parcial laparoscopica asistida por robot profilaxis antibiotica, \n",
            "antitrombotica, antiulcerosa tractament i recomanacions a l'alta ingesta abundante de liquidos entorno a dos litros y medio de agua al dia\n",
            ". reposo relativo durante las primeras semanas. paracetamol 1 g cada 8h si dolor. amoxicilina / clavulanico 1comp/8h durante 7 dias mas \n",
            "si persistencia del dolor: metamizol 575 mg cada 8h alternado con paracetamol. retirada de grapas dentro de 10 dias en ambulatorio \n",
            "de zona. curas diarias de la herida con agua y jabon, mantener heridas secas, puede aplicar betadine. en caso de fiebre & gt;38º o \n",
            "complicacion acuda a urgencias. control a consultas externas de urologia segun programacion en hoja adjunta. destinacio a l'alta: a \n",
            "domicili nhc******** (******** ) age-v-uro 2/2 lopd \n"
          ]
        }
      ]
    }
  ]
}