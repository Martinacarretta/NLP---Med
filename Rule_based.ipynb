{
  "cells": [
    {
      "cell_type": "markdown",
      "metadata": {
        "id": "oKzZR_zMeZ75"
      },
      "source": [
        "#**Rule-based algorithm using basic text processing tools**"
      ]
    },
    {
      "cell_type": "markdown",
      "metadata": {
        "id": "hCuxY13Hepxk"
      },
      "source": [
        "Group 7:\n",
        "- Martina Carretta\n",
        "- Meritxell Carvajal\n",
        "- Mariona Pla\n",
        "- Ares Sellart"
      ]
    },
    {
      "cell_type": "markdown",
      "metadata": {
        "id": "TaWYoT780C60"
      },
      "source": [
        "### Import the necessary libraries"
      ]
    },
    {
      "cell_type": "code",
      "execution_count": null,
      "metadata": {
        "id": "aVPs39YXf8Jd"
      },
      "outputs": [],
      "source": [
        "import json\n",
        "import spacy\n",
        "import nltk\n",
        "\n",
        "!pip install medspacy\n",
        "!pip install spacy nltk\n",
        "\n",
        "import medspacy\n",
        "from spacy.tokens import Token\n",
        "\n",
        "import string\n",
        "\n",
        "import spacy\n",
        "\n",
        "import pandas as pd"
      ]
    },
    {
      "cell_type": "markdown",
      "metadata": {
        "id": "Fp_gGHk11shU"
      },
      "source": [
        "Language model for Spanish provided by the spaCy library"
      ]
    },
    {
      "cell_type": "code",
      "execution_count": null,
      "metadata": {
        "id": "p3kAJQSA1rdj"
      },
      "outputs": [],
      "source": [
        "!python3 -m spacy download es_core_news_sm"
      ]
    },
    {
      "cell_type": "markdown",
      "metadata": {
        "id": "QUkqSY69fAqb"
      },
      "source": [
        "# Import the data"
      ]
    },
    {
      "cell_type": "code",
      "execution_count": null,
      "metadata": {
        "id": "0t8yGS21uyqO"
      },
      "outputs": [],
      "source": [
        "#!git clone https://github.com/Martinacarretta/githubTest.git\n",
        "jsons = open('/home/martina/codi2/NLP - Med/negacio_train_v2024.json')\n",
        "json_string = jsons.read()\n",
        "json_object = json.loads(json_string)\n"
      ]
    },
    {
      "cell_type": "code",
      "execution_count": null,
      "metadata": {
        "colab": {
          "base_uri": "https://localhost:8080/"
        },
        "id": "w_KgxDwNgXuz",
        "outputId": "7f3ae688-6e7b-433e-e0e0-d31728fe0f48"
      },
      "outputs": [
        {
          "name": "stdout",
          "output_type": "stream",
          "text": [
            "The training dataset contains 254 instances of medical documents\n"
          ]
        }
      ],
      "source": [
        "instances = 0\n",
        "for i in range(len(json_object)):\n",
        "  instances += 1\n",
        "\n",
        "print(f'The training dataset contains',instances,'instances of medical documents')"
      ]
    },
    {
      "cell_type": "code",
      "execution_count": null,
      "metadata": {
        "colab": {
          "base_uri": "https://localhost:8080/"
        },
        "id": "g3vL7YrEgB9J",
        "outputId": "597b7c14-dd8e-4ac2-9e47-4e6995fb3205"
      },
      "outputs": [
        {
          "data": {
            "text/plain": [
              "{'data': {'cmbd': 'null',\n",
              "  'id': '19026587',\n",
              "  'docid': 'null',\n",
              "  'page': 'null',\n",
              "  'paragraph': 'null',\n",
              "  'text': \" nº historia clinica: ** *** *** nºepisodi: ******** sexe: home data de naixement: 16.05.1936 edat: 82 anys procedencia cex mateix hosp servei urologia data d'ingres 24.07.2018 data d'alta 25.07.2018 08:54:04 ates per ***************, *****; ****************, ****** informe d'alta d'hospitalitzacio motiu d'ingres paciente que ingresa de forma programada para realizacion de uretrotomia interna . antecedents alergia a penicilina y cloramfenicol . no habitos toxicos. antecedentes medicos: bloqueo auriculoventricular de primer grado hipertension arterial. diverticulosis extensa insuficiencia renal cronica colelitiasis antecedentes quirurgicos: exeresis de lesiones cutaneas con anestesia local protesis total de cadera cordectomia herniorrafia inguinal proces actual varon de 81a que a raiz de episodio de hematuria macroscopica se realiza cistoscopia que es negativa para lesiones malignas pero se objetiva estenosis de uretra . se intentan dilataciones progresivas en el gabinete de urologia sin exito. se solicita estudio de imagen que confirma la existencia de estenosis a nivel d uretra bulbar por lo que se indica uretrtomia interna. exploracio complementaria uretrocistografia retrograda + cums (11/2017): la uretrografia retrograda muestra una uretra anterior con dos estenosis focales a nivel de uretra peneana y bulbar, aunque se observa paso de contraste retrogrado a vejiga. vejiga de correcta capacidad (250 cc de contraste), de paredes trabeculadas y con diverticulos, el mayor de ellos en cara posterolateral izquierda, sin observarse defectos de replecion. la uretrografia miccional muestra una uretra prostatica dilatada, sin claras estenosis focales confirmandose la existencia de las dos estenosis de uretra anterior descritas previamente. moderado residuo postmiccional en vejiga asi como en el interior del diverticulo posterolateral izquierdo descrito. uretroscopia (10/2017) falsa via a nivel de uretra peneana, siguiendo la uretra se detecta gran estenosis que no permite el paso de una guia. nhc ** *** *** (********) age-v-uro 1/2 lopd evolucio clinica el 24 de julio de 2018 con el consentimiento informado del paciente y sin contraindicacion preoperatoria se realiza uretrotomia interna sin incidencias. tras el procedimiento el paciente es trasladado a la planta de hospitalizacion siendo portador de lavado vesical continuo. posteriormente se mantiene en buen estado general, afebril, hemodinamicamente estable y con buen control del dolor. aclarado progresivo de la orina con los lavados vesicales continuos, que permiten su retirada, conserva correcta diuresis. tolerancia correcta a dieta oral. dada la buena evolucion se decide alta domiciliaria siendo portador de sonda vesical. orientacio diagnostica n40.0 hiperplasia prostatica benigna sense simptomes en les vies urinaries inferiors procediments 04.81 injeccio en el nervi periferic d'anestesic per a analgesia 58.0 uretrotomia. excisio de septe uretral, uretrostomia perineal, extraccio de calcul uretral per incisio sonda vesical profilaxis antibiotica, antilucerosa y antitrombotica tractament i recomanacions a l'alta -abundante ingesta de liquidos entorno a dos litros y medio de agua al dia. -puede orinar con restos de sangre durante las proximas semanas. -es normal que sienta escozor al orinar y que tenga algun escape de orina y urgencia miccional al retirar la sonda vesical. mantener sonda vesical durante 14 dias (dos semanas). ciprofloxacino 500mg cada 12h durante dos semanas. -paracetamol 1 g cada 8 horas si molestias. -si fiebre mayor de 38ºc, empeoramiento claro del estado general o imposibilidad miccional por obstruccion de sonda vesical o despues de su retirada, consultar con el servicio de urgencias. -control en consultas externas de urologia segun cita en hoja adjunta. destinacio a l'alta: a domicili nhc ** *** *** (********) age-v-uro 2/2 lopd\"},\n",
              " 'annotations': [],\n",
              " 'predictions': [{'result': [{'value': {'start': 449,\n",
              "      'end': 452,\n",
              "      'labels': ['NEG']},\n",
              "     'id': 'ent0',\n",
              "     'from_name': 'label',\n",
              "     'to_name': 'text',\n",
              "     'type': 'labels'},\n",
              "    {'value': {'start': 452, 'end': 468, 'labels': ['NSCO']},\n",
              "     'id': 'ent1',\n",
              "     'from_name': 'label',\n",
              "     'to_name': 'text',\n",
              "     'type': 'labels'},\n",
              "    {'value': {'start': 844, 'end': 856, 'labels': ['NSCO']},\n",
              "     'id': 'ent2',\n",
              "     'from_name': 'label',\n",
              "     'to_name': 'text',\n",
              "     'type': 'labels'},\n",
              "    {'value': {'start': 863, 'end': 872, 'labels': ['NEG']},\n",
              "     'id': 'ent3',\n",
              "     'from_name': 'label',\n",
              "     'to_name': 'text',\n",
              "     'type': 'labels'},\n",
              "    {'value': {'start': 872, 'end': 895, 'labels': ['NSCO']},\n",
              "     'id': 'ent4',\n",
              "     'from_name': 'label',\n",
              "     'to_name': 'text',\n",
              "     'type': 'labels'},\n",
              "    {'value': {'start': 998, 'end': 1002, 'labels': ['NEG']},\n",
              "     'id': 'ent5',\n",
              "     'from_name': 'label',\n",
              "     'to_name': 'text',\n",
              "     'type': 'labels'},\n",
              "    {'value': {'start': 1002, 'end': 1008, 'labels': ['NSCO']},\n",
              "     'id': 'ent6',\n",
              "     'from_name': 'label',\n",
              "     'to_name': 'text',\n",
              "     'type': 'labels'},\n",
              "    {'value': {'start': 1539, 'end': 1543, 'labels': ['NEG']},\n",
              "     'id': 'ent7',\n",
              "     'from_name': 'label',\n",
              "     'to_name': 'text',\n",
              "     'type': 'labels'},\n",
              "    {'value': {'start': 1543, 'end': 1576, 'labels': ['NSCO']},\n",
              "     'id': 'ent8',\n",
              "     'from_name': 'label',\n",
              "     'to_name': 'text',\n",
              "     'type': 'labels'},\n",
              "    {'value': {'start': 1643, 'end': 1654, 'labels': ['UNC']},\n",
              "     'id': 'ent9',\n",
              "     'from_name': 'label',\n",
              "     'to_name': 'text',\n",
              "     'type': 'labels'},\n",
              "    {'value': {'start': 1654, 'end': 1762, 'labels': ['USCO']},\n",
              "     'id': 'ent10',\n",
              "     'from_name': 'label',\n",
              "     'to_name': 'text',\n",
              "     'type': 'labels'},\n",
              "    {'value': {'start': 1902, 'end': 1908, 'labels': ['UNC']},\n",
              "     'id': 'ent11',\n",
              "     'from_name': 'label',\n",
              "     'to_name': 'text',\n",
              "     'type': 'labels'},\n",
              "    {'value': {'start': 1908, 'end': 1938, 'labels': ['USCO']},\n",
              "     'id': 'ent12',\n",
              "     'from_name': 'label',\n",
              "     'to_name': 'text',\n",
              "     'type': 'labels'},\n",
              "    {'value': {'start': 1989, 'end': 1992, 'labels': ['NEG']},\n",
              "     'id': 'ent13',\n",
              "     'from_name': 'label',\n",
              "     'to_name': 'text',\n",
              "     'type': 'labels'},\n",
              "    {'value': {'start': 1992, 'end': 2020, 'labels': ['NSCO']},\n",
              "     'id': 'ent14',\n",
              "     'from_name': 'label',\n",
              "     'to_name': 'text',\n",
              "     'type': 'labels'},\n",
              "    {'value': {'start': 2153, 'end': 2157, 'labels': ['NEG']},\n",
              "     'id': 'ent15',\n",
              "     'from_name': 'label',\n",
              "     'to_name': 'text',\n",
              "     'type': 'labels'},\n",
              "    {'value': {'start': 2157, 'end': 2188, 'labels': ['NSCO']},\n",
              "     'id': 'ent16',\n",
              "     'from_name': 'label',\n",
              "     'to_name': 'text',\n",
              "     'type': 'labels'},\n",
              "    {'value': {'start': 2219, 'end': 2223, 'labels': ['NEG']},\n",
              "     'id': 'ent17',\n",
              "     'from_name': 'label',\n",
              "     'to_name': 'text',\n",
              "     'type': 'labels'},\n",
              "    {'value': {'start': 2223, 'end': 2235, 'labels': ['NSCO']},\n",
              "     'id': 'ent18',\n",
              "     'from_name': 'label',\n",
              "     'to_name': 'text',\n",
              "     'type': 'labels'},\n",
              "    {'value': {'start': 2410, 'end': 2418, 'labels': ['NEG']},\n",
              "     'id': 'ent19',\n",
              "     'from_name': 'label',\n",
              "     'to_name': 'text',\n",
              "     'type': 'labels'}]}]}"
            ]
          },
          "execution_count": 6,
          "metadata": {},
          "output_type": "execute_result"
        }
      ],
      "source": [
        "json_object[0]  #to check the format"
      ]
    },
    {
      "cell_type": "markdown",
      "metadata": {
        "id": "oVdPBB2DgmHm"
      },
      "source": [
        "#Train the model"
      ]
    },
    {
      "cell_type": "code",
      "execution_count": null,
      "metadata": {
        "colab": {
          "base_uri": "https://localhost:8080/"
        },
        "id": "ZY4d55g4o6R-",
        "outputId": "b898a300-b4e8-46fd-8c60-2ad90ddfe5f5"
      },
      "outputs": [
        {
          "name": "stdout",
          "output_type": "stream",
          "text": [
            "Total negation scopes: 4307\n",
            "Total uncertainty scopes: 458\n"
          ]
        }
      ],
      "source": [
        "def create_negations(preprocessed_data): # creates a set of the negation and uncertanty (train)\n",
        "    # Calculate the total number of negation and uncertainty scopes\n",
        "    total_negation_scopes = 0\n",
        "    total_uncertainty_scopes = 0\n",
        "    set_neg = set()  #Set to store the negation words. No repeated elements\n",
        "    set_unc = set()\n",
        "    for entry in preprocessed_data:\n",
        "        text = entry.get('data')['text']\n",
        "        for prediction in entry.get('predictions', []):\n",
        "            for label_data in prediction['result']:\n",
        "                label_value = label_data['value']\n",
        "                labels = label_value['labels']\n",
        "                start_index = label_value['start']\n",
        "                end_index = label_value['end']\n",
        "                text2 = text[start_index:end_index]  # Extract text based on start and end indexes\n",
        "                # Add words to corresponding sets based on labels\n",
        "                for label in labels:\n",
        "                    if label == \"NEG\":\n",
        "                        total_negation_scopes += 1\n",
        "                        set_neg.add(text2)\n",
        "                    elif label == \"UNC\":\n",
        "                        total_uncertainty_scopes += 1\n",
        "                        set_unc.add(text2)\n",
        "\n",
        "    print(f\"Total negation scopes: {total_negation_scopes}\")\n",
        "    print(f\"Total uncertainty scopes: {total_uncertainty_scopes}\")\n",
        "    return(set_neg, set_unc)\n",
        "\n",
        "set_neg, set_unc = create_negations(json_object)"
      ]
    },
    {
      "cell_type": "code",
      "execution_count": null,
      "metadata": {
        "colab": {
          "base_uri": "https://localhost:8080/"
        },
        "id": "XzFRrDFe0jZ6",
        "outputId": "85e53640-d21b-428f-f730-e4ba996d339d"
      },
      "outputs": [
        {
          "name": "stdout",
          "output_type": "stream",
          "text": [
            "{'se desestimo ', 'desaparicion del ', 'negativo ', 'negativa,', 'suspendido ', 'niega ', 'inestabilidad ', 'inespecifico:', 'negativos', 'asintomatico.', 'ceden ', 'ex', 'asintomatica ', 'ausencia ', 'negativo', 'inespecificos ', 'sense', 'rechaza ', ' afebril', 'asintomatico ', 'impide ', 'nega', 'negatividad de ', 'desorientado ', 'se suspende ', 'desorientacion.', 'ex fumador ', 'tampoco ', 'imposibilidad de ', 'negativa', 'sin', 'negativo.', 'niega', 'inespecificos', 'negativa.', 'desaparicion de ', 'ex-', 'negatiu.', 'negatiu', 'asintomatico', 'se retira ', 'retiro ', 'neg.', 'se retira', 'negativas ', ' no ', 'negativo)', 'negativas', 'cede ', 'indetectable.', 'afebril', 'ex ', 'neg ', 'niegan ', 'negativas.', 'negativos ', 'inespecifico', 'asintomatica', 'negatividad ', 'negatividad del ', 'inespecifico.', 'sin ', 'neg;', 'nega ', ' negativo', 'irregulares', 'retirar ', 'ausencia de ', 'exfumador ', 'incapacidad para ', 'asintomatica,', 'neg,', 'negativos,', 'negativos;', 'inestabilidad', 'sense ', 'no', 'arritmicos', 'excepto ', 'ninguno ', 'afebril.', 'negativos.', 'afebril ', 'atipicos', 'desaparecen ', 'negativo,', 'descarta ', 'negativa ', 'descartada ', 'imposibilidad', 'no ', 'falta de ', 'afebril,', 'asintomatico,', 'neg', 'en ninguna ', 'negativa)', 'negaitvo'}\n"
          ]
        }
      ],
      "source": [
        "print(set_neg)"
      ]
    },
    {
      "cell_type": "markdown",
      "metadata": {
        "id": "8fC2PK_f0oNB"
      },
      "source": [
        "Many of the words contain blankspaces at the end or punctuation signs.\n",
        "\n",
        "To solve this problem, all blackspaces and punctuation signs in the last position of the string will be removed"
      ]
    },
    {
      "cell_type": "code",
      "execution_count": null,
      "metadata": {
        "id": "SkYgBvYD1Cg2"
      },
      "outputs": [],
      "source": [
        "def clean(s):\n",
        "  punctuation = string.punctuation\n",
        "  s2 = {word.strip(punctuation).strip() for word in s}\n",
        "  return s2"
      ]
    },
    {
      "cell_type": "code",
      "execution_count": null,
      "metadata": {
        "colab": {
          "base_uri": "https://localhost:8080/"
        },
        "id": "wUMBacKbONWk",
        "outputId": "53b7119d-2c79-4886-8a0f-b825fb629e9f"
      },
      "outputs": [
        {
          "name": "stdout",
          "output_type": "stream",
          "text": [
            "{'negativas', 'exfumador', 'retiro', 'desorientado', 'indetectable', 'tampoco', 'ausencia de', 'niegan', 'afebril', 'excepto', 'descarta', 'inestabilidad', 'negatividad de', 'descartada', 'rechaza', 'negatividad', 'impide', 'desorientacion', 'negativa', 'sin', 'niega', 'inespecificos', 'cede', 'no', 'incapacidad para', 'negativos', 'ausencia', 'suspendido', 'inespecifico', 'asintomatica', 'arritmicos', 'negatiu', 'negaitvo', 'ex', 'ninguno', 'desaparicion del', 'atipicos', 'negativo', 'asintomatico', 'ceden', 'retirar', 'sense', 'se suspende', 'imposibilidad', 'desaparicion de', 'negatividad del', 'en ninguna', 'se retira', 'desaparecen', 'ex fumador', 'nega', 'neg', 'imposibilidad de', 'irregulares', 'se desestimo', 'falta de'}\n"
          ]
        }
      ],
      "source": [
        "set_neg2 = clean(set_neg)\n",
        "set_unc2 = clean(set_unc)\n",
        "print(set_neg2)"
      ]
    },
    {
      "cell_type": "markdown",
      "metadata": {
        "id": "zk6nmKPV1cQI"
      },
      "source": [
        "Some of the words (such as 'no') were repeated in negation and uncertainty in the tagged training dataset. Remove them from the uncertainty set to avoid repeated detected words"
      ]
    },
    {
      "cell_type": "code",
      "execution_count": null,
      "metadata": {
        "colab": {
          "base_uri": "https://localhost:8080/"
        },
        "id": "SE0L9rahgCCZ",
        "outputId": "929b6039-3a33-4bc1-e96e-615a67b9e755"
      },
      "outputs": [
        {
          "name": "stdout",
          "output_type": "stream",
          "text": [
            "{'sospecha de', 'se orienta', 'probable', 'sugiere', 'sugestivas de', 'compatible con', 'no permite descartar', 'ssospechosas de', 'pudieran', 'sugestivos de', 'orienta como', 'aparentemente', 'dudosamente', 'posibles', 'dubtos', 'parece', 'sugestivo de', 'permite descartar', 'posiblemente', 'sospitosa de', 'sin poder descartar', 'falsa', 'no parece', 'probablemente', 'dudosa', 'impresiona', 'aparente', 'orientan', 'sospechosa de', 'sin clara', 'valorar', 'sugestivos con', 'sugiriendo', 'orientan como', 'aparentes', 'sugestiva de', 'clara', 'sugestiva como', 'sugiera de', 'no es posible descartar', 'dudosos', 'impresiona de', 'dudoso', 'sospechosas de', 'atribuida', 'sospechan de', 'podrian', 'sin claras', 'plantea', 'compatible amb', 'podria', 'desconocido', 'indiquen', 'probables', 'se desconoce', 'sugieren', 'posibilidad de', 'orienta', 'interpreta', 'sospecha', 'indeterminado', 'sin aparentes', 'parecen', 'al parecer', 'poco porque', 'puede', 'compatibles con', 'sin aparente', 'vs', 'desconoce', 'compatible', 'no clara', 'se orientan', 'posible', 'sugieran', 'sospechosos de'}\n"
          ]
        }
      ],
      "source": [
        "words_to_remove = {\"no\", \"sin\", \"descartar\"}\n",
        "set_unc2_filtered = {word for word in set_unc2 if word not in words_to_remove}\n",
        "print(set_unc2_filtered)"
      ]
    },
    {
      "cell_type": "code",
      "execution_count": null,
      "metadata": {
        "colab": {
          "base_uri": "https://localhost:8080/"
        },
        "id": "g1a3iJw0nzbz",
        "outputId": "a49c1258-fdc9-4ddc-a568-e76e188ea131"
      },
      "outputs": [
        {
          "name": "stdout",
          "output_type": "stream",
          "text": [
            "(6, 14)\n"
          ]
        }
      ],
      "source": [
        "def convert(text, token_indexes): #to store the character index from tokens in text\n",
        "    nlp_es = spacy.load('es_core_news_sm')\n",
        "    text_t = nlp_es(text)  # Tokenized text\n",
        "    start_t = token_indexes[0]\n",
        "    end_t = token_indexes[1]\n",
        "\n",
        "    # Extract tokens and their start indices\n",
        "    tokens = [(token.text, token.idx) for token in text_t]\n",
        "\n",
        "    # Find start and end indices of the specified tokens\n",
        "    start = tokens[start_t][1]\n",
        "    end = tokens[end_t][1] + len(tokens[end_t][0])\n",
        "\n",
        "    return (start, end-1) #space\n",
        "\n",
        "# Example usage\n",
        "text = \"Hola! món, aixo es una prova, per mirar si funciona\"\n",
        "print(convert(text, (2, 4))) # \"mon, aixo\" which have indices (6, 15) (15 not included since it's the space after aixo)\n"
      ]
    },
    {
      "cell_type": "code",
      "execution_count": null,
      "metadata": {
        "colab": {
          "base_uri": "https://localhost:8080/"
        },
        "id": "frT3QBi_We4E",
        "outputId": "2420c880-b9a8-4967-aee7-8b60c986f381"
      },
      "outputs": [
        {
          "name": "stdout",
          "output_type": "stream",
          "text": [
            "[no, negativa, sin, sin, sin, no, sin, sin, afebril, sense, retirar, imposibilidad]\n",
            "[(451, 466), (871, 909), (1001, 1006), (1542, 1574), (1646, 1697), (1991, 2017), (2156, 2216), (2222, 2233), (2416, 2416), (2783, 2823), (3361, 3377), (3609, 3650)]\n",
            "[falsa]\n",
            "[(1907, 1935)]\n"
          ]
        }
      ],
      "source": [
        "def detect_negations(text, lista, llista2): # detect negations of a text given a list of negations\n",
        "    nlp_es = spacy.load('es_core_news_sm')  #use spanish language model\n",
        "    doc = nlp_es(text)\n",
        "    negs = []\n",
        "    scopes = []\n",
        "    unc = []\n",
        "    uscopes = []\n",
        "\n",
        "    for token in doc:\n",
        "        if token.lower_ in lista: # Negations\n",
        "            negs.append(token)\n",
        "            scope_start = token.i+1\n",
        "            scope_end = min(token.i+1 + 5, len(doc) - 1)  # Set a maximum scope length of 5 tokens\n",
        "\n",
        "            # Iterate over tokens within the scope\n",
        "            for j in range(token.i + 1, scope_end + 1):\n",
        "                if doc[j].is_punct:  # Check for punctuation\n",
        "                    scope_end = j\n",
        "                    break\n",
        "            scopes.append((scope_start, scope_end))\n",
        "\n",
        "        elif token.lower_ in llista2: # Uncertainties\n",
        "            unc.append(token)\n",
        "            scope_start = token.i+1\n",
        "            scope_end = min(token.i+1 + 5, len(doc) - 1)  # Set a maximum scope length of 5 tokens\n",
        "\n",
        "            # Iterate over tokens within the scope\n",
        "            for j in range(token.i + 1, scope_end + 1):\n",
        "                if doc[j].is_punct:  # Check for punctuation\n",
        "                    scope_end = j\n",
        "                    break\n",
        "            uscopes.append((scope_start, scope_end))\n",
        "\n",
        "    # Change from scope indices of tokens to scope indices of characters to then compare with the true values\n",
        "    scopes2 = []\n",
        "    for scope in scopes:\n",
        "      scopes2.append(convert(text, scope))\n",
        "    scopes3 = []\n",
        "    for scope in uscopes:\n",
        "      scopes3.append(convert(text, scope))\n",
        "    return negs, scopes2, unc, scopes3\n",
        "\n",
        "text = \"nº historia clinica: ** *** *** nºepisodi: ******** sexe: home data de naixement: 16.05.1936 edat: 82 anys procedencia cex mateix hosp servei urologia data d'ingres 24.07.2018 data d'alta 25.07.2018 08:54:04 ates per ***************, *****; ****************, ****** informe d'alta d'hospitalitzacio motiu d'ingres paciente que ingresa de forma programada para realizacion de uretrotomia interna . antecedents alergia a penicilina y cloramfenicol . no habitos toxicos. antecedentes medicos: bloqueo auriculoventricular de primer grado hipertension arterial. diverticulosis extensa insuficiencia renal cronica colelitiasis antecedentes quirurgicos: exeresis de lesiones cutaneas con anestesia local protesis total de cadera cordectomia herniorrafia inguinal proces actual varon de 81a que a raiz de episodio de hematuria macroscopica se realiza cistoscopia que es negativa para lesiones malignas pero se objetiva estenosis de uretra . se intentan dilataciones progresivas en el gabinete de urologia sin exito. se solicita estudio de imagen que confirma la existencia de estenosis a nivel d uretra bulbar por lo que se indica uretrtomia interna. exploracio complementaria uretrocistografia retrograda + cums (11/2017): la uretrografia retrograda muestra una uretra anterior con dos estenosis focales a nivel de uretra peneana y bulbar, aunque se observa paso de contraste retrogrado a vejiga. vejiga de correcta capacidad (250 cc de contraste), de paredes trabeculadas y con diverticulos, el mayor de ellos en cara posterolateral izquierda, sin observarse defectos de replecion. la uretrografia miccional muestra una uretra prostatica dilatada, sin claras estenosis focales confirmandose la existencia de las dos estenosis de uretra anterior descritas previamente. moderado residuo postmiccional en vejiga asi como en el interior del diverticulo posterolateral izquierdo descrito. uretroscopia (10/2017) falsa via a nivel de uretra peneana, siguiendo la uretra se detecta gran estenosis que no permite el paso de una guia. nhc ** *** *** (********) age-v-uro 1/2 lopd evolucio clinica el 24 de julio de 2018 con el consentimiento informado del paciente y sin contraindicacion preoperatoria se realiza uretrotomia interna sin incidencias. tras el procedimiento el paciente es trasladado a la planta de hospitalizacion siendo portador de lavado vesical continuo. posteriormente se mantiene en buen estado general, afebril, hemodinamicamente estable y con buen control del dolor. aclarado progresivo de la orina con los lavados vesicales continuos, que permiten su retirada, conserva correcta diuresis. tolerancia correcta a dieta oral. dada la buena evolucion se decide alta domiciliaria siendo portador de sonda vesical. orientacio diagnostica n40.0 hiperplasia prostatica benigna sense simptomes en les vies urinaries inferiors procediments 04.81 injeccio en el nervi periferic d'anestesic per a analgesia 58.0 uretrotomia. excisio de septe uretral, uretrostomia perineal, extraccio de calcul uretral per incisio sonda vesical profilaxis antibiotica, antilucerosa y antitrombotica tractament i recomanacions a l'alta -abundante ingesta de liquidos entorno a dos litros y medio de agua al dia. -puede orinar con restos de sangre durante las proximas semanas. -es normal que sienta escozor al orinar y que tenga algun escape de orina y urgencia miccional al retirar la sonda vesical. mantener sonda vesical durante 14 dias (dos semanas). ciprofloxacino 500mg cada 12h durante dos semanas. -paracetamol 1 g cada 8 horas si molestias. -si fiebre mayor de 38ºc, empeoramiento claro del estado general o imposibilidad miccional por obstruccion de sonda vesical o despues de su retirada, consultar con el servicio de urgencias. -control en consultas externas de urologia segun cita en hoja adjunta. destinacio a l'alta: a domicili nhc ** *** *** (********) age-v-uro 2/2 lopd\"\n",
        "negs, nsco, unc, usco  = detect_negations(text, set_neg2, set_unc2)\n",
        "print(negs)\n",
        "print(nsco)\n",
        "print(unc)\n",
        "print(usco)"
      ]
    },
    {
      "cell_type": "code",
      "execution_count": null,
      "metadata": {
        "colab": {
          "base_uri": "https://localhost:8080/"
        },
        "id": "X9cRK9HIdtA-",
        "outputId": "5dc82585-fd05-440a-e1a4-9d990a37ced4"
      },
      "outputs": [
        {
          "name": "stdout",
          "output_type": "stream",
          "text": [
            "[no, negativa, sin, sin, sin, no, sin, sin, afebril, sense, retirar, imposibilidad]\n",
            "[(451, 466), (871, 909), (1001, 1006), (1542, 1574), (1646, 1697), (1991, 2017), (2156, 2216), (2222, 2233), (2416, 2416), (2783, 2823), (3361, 3377), (3609, 3650)]\n",
            "[falsa]\n",
            "[(1907, 1935)]\n"
          ]
        }
      ],
      "source": [
        "negs, nsco, unc, usco  = detect_negations(text, set_neg2, set_unc2_filtered)\n",
        "print(negs)\n",
        "print(nsco)\n",
        "print(unc)\n",
        "print(usco)"
      ]
    },
    {
      "cell_type": "markdown",
      "metadata": {
        "id": "h53yf8N72TBn"
      },
      "source": [
        "# Test"
      ]
    },
    {
      "cell_type": "code",
      "execution_count": null,
      "metadata": {
        "id": "aoE7ZfZwY_k4"
      },
      "outputs": [],
      "source": [
        "test = open('/content/githubTest/negacio_test_v2024.json')\n",
        "test = test.read()\n",
        "test = json.loads(test)"
      ]
    },
    {
      "cell_type": "code",
      "execution_count": null,
      "metadata": {
        "colab": {
          "base_uri": "https://localhost:8080/"
        },
        "id": "i7toLpau3EuL",
        "outputId": "b6bddc3d-af92-4b45-b39c-73a91d6b709b"
      },
      "outputs": [
        {
          "name": "stdout",
          "output_type": "stream",
          "text": [
            "The test dataset contains 64 instances of medical documents\n"
          ]
        }
      ],
      "source": [
        "instances = 0\n",
        "for i in range(len(test)):\n",
        "  instances += 1\n",
        "\n",
        "print(f'The test dataset contains',instances,'instances of medical documents')"
      ]
    },
    {
      "cell_type": "code",
      "execution_count": null,
      "metadata": {
        "id": "hR-CZdxl3iIN"
      },
      "outputs": [],
      "source": [
        "def store_negations(preprocessed_data, y_true_neg, y_true_nsco, y_true_unc, y_true_usco): # Stores the true negations and uncertainties (test)\n",
        "    for entry in preprocessed_data:\n",
        "        neg = [] #create an emtpy list for every entry in the test dataset\n",
        "        nsco = []\n",
        "        unc = []\n",
        "        usco = []\n",
        "        text = entry.get('data')['text']\n",
        "        for prediction in entry.get('predictions', []):\n",
        "            for label_data in prediction['result']:\n",
        "                label_value = label_data['value']\n",
        "                labels = label_value['labels']\n",
        "                start_index = label_value['start']\n",
        "                end_index = label_value['end']\n",
        "                text2 = text[start_index:end_index]  # Extract text based on start and end indexes\n",
        "                # Add words to corresponding sets based on labels\n",
        "                for label in labels:\n",
        "                    if label == \"NEG\":\n",
        "                        neg.append(text2)\n",
        "                    elif label == \"UNC\":\n",
        "                        unc.append(text2)\n",
        "                    elif label == \"NSCO\":\n",
        "                        nsco.append((start_index, end_index))\n",
        "                    elif label == \"USCO\":\n",
        "                        usco.append((start_index, end_index))\n",
        "        y_true_neg.append(clean(neg))\n",
        "        y_true_nsco.append(nsco)\n",
        "        y_true_unc.append(clean(unc))\n",
        "        y_true_usco.append(usco)\n",
        "    #clean negation and uncertainty lists so there are not blanckspaces or punctuation signs at the end of the word\n",
        "    return(y_true_neg, y_true_nsco, y_true_unc, y_true_usco)"
      ]
    },
    {
      "cell_type": "code",
      "execution_count": null,
      "metadata": {
        "id": "tuKZtqDz2Ssv"
      },
      "outputs": [],
      "source": [
        "#Look for the true labels in the test set\n",
        "y_true_neg = []\n",
        "y_true_nsco = []\n",
        "y_true_unc = []\n",
        "y_true_usco = []\n",
        "\n",
        "neg, nsco, unc, usco = store_negations(test, y_true_neg, y_true_nsco, y_true_unc, y_true_usco) #test\n"
      ]
    },
    {
      "cell_type": "code",
      "execution_count": null,
      "metadata": {
        "id": "5gxKi4VQk_to"
      },
      "outputs": [],
      "source": [
        "#Calculate the predicted labels in the test set\n",
        "y_pred_neg = [] #list to store all the negation cues list for each document\n",
        "y_pred_nsco = []\n",
        "y_pred_unc = []\n",
        "y_pred_usco = []\n",
        "\n",
        "for entry in test:\n",
        "  text = entry.get('data')['text']\n",
        "  negations, nscopes, uncertainties, uscopes = detect_negations(text, set_neg2, set_unc2_filtered)\n",
        "  y_pred_neg.append(negations)\n",
        "  y_pred_nsco.append(nscopes)\n",
        "  y_pred_unc.append(uncertainties)\n",
        "  y_pred_usco.append(uscopes)"
      ]
    },
    {
      "cell_type": "code",
      "execution_count": null,
      "metadata": {
        "colab": {
          "base_uri": "https://localhost:8080/"
        },
        "id": "nIoHPml73SXO",
        "outputId": "8ef8f099-d6cb-4859-b21b-1a2f1e73675d"
      },
      "outputs": [
        {
          "name": "stdout",
          "output_type": "stream",
          "text": [
            "{'no', 'sin', 'afebril'}\n",
            "[sin, no, sin, sin, afebril, no]\n"
          ]
        }
      ],
      "source": [
        "print(y_true_neg[6]) #To check if the predicted and the true lists are somehow similar.\n",
        "print(y_pred_neg[6])"
      ]
    },
    {
      "cell_type": "markdown",
      "metadata": {
        "id": "nsC1xo2rc81X"
      },
      "source": [
        "Since the rule-based method is based on the negation/uncertainty cues from the training set, the algorithm will detect all the instances in the text. However, the subjective tagger may not categorize every instance of the same word as a negation or uncertainty cue.\n",
        "Moreover, those words which were not tagged as negation/uncertainty cues in the training set won't be considered as such by the model."
      ]
    },
    {
      "cell_type": "code",
      "execution_count": null,
      "metadata": {
        "colab": {
          "base_uri": "https://localhost:8080/"
        },
        "id": "RPcXes3s3VuU",
        "outputId": "80820c46-e673-4f0a-8ff9-f8580117bc8c"
      },
      "outputs": [
        {
          "name": "stdout",
          "output_type": "stream",
          "text": [
            "[(1867, 1884), (2877, 2912), (953, 964), (1201, 1212), (2309, 2320)]\n",
            "[(953, 964), (1201, 1212), (1867, 1912), (2309, 2320), (2380, 2380), (2877, 2916)]\n"
          ]
        }
      ],
      "source": [
        "print(y_true_nsco[6])\n",
        "print(y_pred_nsco[6])"
      ]
    },
    {
      "cell_type": "markdown",
      "metadata": {
        "id": "1nkZIi_Kduak"
      },
      "source": [
        "As evident from the data, the performance of identifying scopes is quite satisfactory. Achieving accuracy in determining the starting position is generally easier compared to determining the end of the scope. This discrepancy arises because the starting point typically follows immediately after the negation or uncertainty cue, whereas the end varies for each instance. The model defines the scope length as 5 tokens or until encountering a punctuation sign."
      ]
    },
    {
      "cell_type": "markdown",
      "metadata": {
        "id": "6kCgpbJK-A-Y"
      },
      "source": [
        "## Rule-based method performance"
      ]
    },
    {
      "cell_type": "code",
      "execution_count": null,
      "metadata": {
        "id": "osrT8CyohpO9"
      },
      "outputs": [],
      "source": [
        "def compute_precision_cues(y_true, y_pred):\n",
        "    if len(y_pred) == 0:\n",
        "      return 1\n",
        "    else:\n",
        "      y_true2 = y_true.copy()\n",
        "      num_correct = 0\n",
        "      total_words = len(y_pred)\n",
        "\n",
        "      for token in y_pred:\n",
        "          if token.text in y_true2:\n",
        "              y_true2.remove(token.text)  # Remove the matched token from y_true so that it counts as correct as many as there are true\n",
        "                #This approach is to have a more realistic metric.\n",
        "                #If the tokens weren't removed from the list, y_pred=['no', 'no', 'no'] and y_true=['no'] would have a precision of 1.\n",
        "                #Based on the approach used here, y_pred=['no', 'no', 'no'] and y_true=['no'] would have a precision of 1/3, which makes more sense.\n",
        "              num_correct += 1\n",
        "\n",
        "      precision = num_correct / total_words #How many correct detections over the whole number of detected cues\n",
        "      return precision\n",
        "\n",
        "def compute_precision_scopes(y_true, y_pred):\n",
        "  if len(y_pred) == 0:\n",
        "      return 1\n",
        "  else:\n",
        "    num_correct = 0\n",
        "    total = len(y_pred)\n",
        "    for scope in y_pred:\n",
        "      if scope in y_true:\n",
        "        num_correct += 1 #If start and end point are exactly the same\n",
        "      else:\n",
        "        for real in y_true:\n",
        "          if scope[0] == real[0]:\n",
        "            num_correct += 0.5  #If starting point is correct, end point is  not, half the scored is summed\n",
        "    precision = num_correct / total\n",
        "  return precision"
      ]
    },
    {
      "cell_type": "code",
      "execution_count": null,
      "metadata": {
        "colab": {
          "base_uri": "https://localhost:8080/",
          "height": 441
        },
        "id": "XMcKdYDsQulH",
        "outputId": "73a3db95-6818-4cb6-ab59-cfd66e2dcc35"
      },
      "outputs": [
        {
          "name": "stdout",
          "output_type": "stream",
          "text": [
            "Dataset:\n"
          ]
        },
        {
          "data": {
            "application/vnd.google.colaboratory.intrinsic+json": {
              "summary": "{\n  \"name\": \"df\",\n  \"rows\": 64,\n  \"fields\": [\n    {\n      \"column\": \"Entry\",\n      \"properties\": {\n        \"dtype\": \"number\",\n        \"std\": 18,\n        \"min\": 0,\n        \"max\": 63,\n        \"num_unique_values\": 64,\n        \"samples\": [\n          52,\n          58,\n          0\n        ],\n        \"semantic_type\": \"\",\n        \"description\": \"\"\n      }\n    },\n    {\n      \"column\": \"Precision Cues (Neg)\",\n      \"properties\": {\n        \"dtype\": \"number\",\n        \"std\": 0.1956795303534851,\n        \"min\": 0.09302325581395349,\n        \"max\": 1.0,\n        \"num_unique_values\": 39,\n        \"samples\": [\n          0.1320754716981132,\n          0.14285714285714285,\n          0.16666666666666666\n        ],\n        \"semantic_type\": \"\",\n        \"description\": \"\"\n      }\n    },\n    {\n      \"column\": \"Precision Scopes (NSco)\",\n      \"properties\": {\n        \"dtype\": \"number\",\n        \"std\": 0.16634090397537632,\n        \"min\": 0.25,\n        \"max\": 1.0,\n        \"num_unique_values\": 44,\n        \"samples\": [\n          0.7,\n          0.36538461538461536,\n          0.3888888888888889\n        ],\n        \"semantic_type\": \"\",\n        \"description\": \"\"\n      }\n    },\n    {\n      \"column\": \"Precision Cues (Unc)\",\n      \"properties\": {\n        \"dtype\": \"number\",\n        \"std\": 0.41456577283622453,\n        \"min\": 0.0,\n        \"max\": 1.0,\n        \"num_unique_values\": 11,\n        \"samples\": [\n          1.0,\n          0.0,\n          0.375\n        ],\n        \"semantic_type\": \"\",\n        \"description\": \"\"\n      }\n    },\n    {\n      \"column\": \"Precision Scopes (USco)\",\n      \"properties\": {\n        \"dtype\": \"number\",\n        \"std\": 0.3951149147468103,\n        \"min\": 0.0,\n        \"max\": 1.0,\n        \"num_unique_values\": 16,\n        \"samples\": [\n          0.0,\n          0.3,\n          1.0\n        ],\n        \"semantic_type\": \"\",\n        \"description\": \"\"\n      }\n    }\n  ]\n}",
              "type": "dataframe",
              "variable_name": "df"
            },
            "text/html": [
              "\n",
              "  <div id=\"df-2e621e26-7792-4939-9d9a-14ff050e3957\" class=\"colab-df-container\">\n",
              "    <div>\n",
              "<style scoped>\n",
              "    .dataframe tbody tr th:only-of-type {\n",
              "        vertical-align: middle;\n",
              "    }\n",
              "\n",
              "    .dataframe tbody tr th {\n",
              "        vertical-align: top;\n",
              "    }\n",
              "\n",
              "    .dataframe thead th {\n",
              "        text-align: right;\n",
              "    }\n",
              "</style>\n",
              "<table border=\"1\" class=\"dataframe\">\n",
              "  <thead>\n",
              "    <tr style=\"text-align: right;\">\n",
              "      <th></th>\n",
              "      <th>Entry</th>\n",
              "      <th>Precision Cues (Neg)</th>\n",
              "      <th>Precision Scopes (NSco)</th>\n",
              "      <th>Precision Cues (Unc)</th>\n",
              "      <th>Precision Scopes (USco)</th>\n",
              "    </tr>\n",
              "  </thead>\n",
              "  <tbody>\n",
              "    <tr>\n",
              "      <th>0</th>\n",
              "      <td>0</td>\n",
              "      <td>0.625000</td>\n",
              "      <td>0.500000</td>\n",
              "      <td>0.000000</td>\n",
              "      <td>0.000000</td>\n",
              "    </tr>\n",
              "    <tr>\n",
              "      <th>1</th>\n",
              "      <td>1</td>\n",
              "      <td>0.161290</td>\n",
              "      <td>0.677419</td>\n",
              "      <td>0.400000</td>\n",
              "      <td>0.300000</td>\n",
              "    </tr>\n",
              "    <tr>\n",
              "      <th>2</th>\n",
              "      <td>2</td>\n",
              "      <td>0.150943</td>\n",
              "      <td>0.707547</td>\n",
              "      <td>0.500000</td>\n",
              "      <td>0.437500</td>\n",
              "    </tr>\n",
              "    <tr>\n",
              "      <th>3</th>\n",
              "      <td>3</td>\n",
              "      <td>0.106383</td>\n",
              "      <td>0.617021</td>\n",
              "      <td>0.285714</td>\n",
              "      <td>0.357143</td>\n",
              "    </tr>\n",
              "    <tr>\n",
              "      <th>4</th>\n",
              "      <td>4</td>\n",
              "      <td>0.166667</td>\n",
              "      <td>0.690476</td>\n",
              "      <td>0.333333</td>\n",
              "      <td>0.250000</td>\n",
              "    </tr>\n",
              "    <tr>\n",
              "      <th>...</th>\n",
              "      <td>...</td>\n",
              "      <td>...</td>\n",
              "      <td>...</td>\n",
              "      <td>...</td>\n",
              "      <td>...</td>\n",
              "    </tr>\n",
              "    <tr>\n",
              "      <th>59</th>\n",
              "      <td>59</td>\n",
              "      <td>0.235294</td>\n",
              "      <td>0.411765</td>\n",
              "      <td>0.000000</td>\n",
              "      <td>0.000000</td>\n",
              "    </tr>\n",
              "    <tr>\n",
              "      <th>60</th>\n",
              "      <td>60</td>\n",
              "      <td>0.166667</td>\n",
              "      <td>0.416667</td>\n",
              "      <td>1.000000</td>\n",
              "      <td>1.000000</td>\n",
              "    </tr>\n",
              "    <tr>\n",
              "      <th>61</th>\n",
              "      <td>61</td>\n",
              "      <td>0.093023</td>\n",
              "      <td>0.406977</td>\n",
              "      <td>0.500000</td>\n",
              "      <td>0.375000</td>\n",
              "    </tr>\n",
              "    <tr>\n",
              "      <th>62</th>\n",
              "      <td>62</td>\n",
              "      <td>0.160000</td>\n",
              "      <td>0.600000</td>\n",
              "      <td>0.333333</td>\n",
              "      <td>0.166667</td>\n",
              "    </tr>\n",
              "    <tr>\n",
              "      <th>63</th>\n",
              "      <td>63</td>\n",
              "      <td>0.250000</td>\n",
              "      <td>0.400000</td>\n",
              "      <td>0.250000</td>\n",
              "      <td>0.250000</td>\n",
              "    </tr>\n",
              "  </tbody>\n",
              "</table>\n",
              "<p>64 rows × 5 columns</p>\n",
              "</div>\n",
              "    <div class=\"colab-df-buttons\">\n",
              "\n",
              "  <div class=\"colab-df-container\">\n",
              "    <button class=\"colab-df-convert\" onclick=\"convertToInteractive('df-2e621e26-7792-4939-9d9a-14ff050e3957')\"\n",
              "            title=\"Convert this dataframe to an interactive table.\"\n",
              "            style=\"display:none;\">\n",
              "\n",
              "  <svg xmlns=\"http://www.w3.org/2000/svg\" height=\"24px\" viewBox=\"0 -960 960 960\">\n",
              "    <path d=\"M120-120v-720h720v720H120Zm60-500h600v-160H180v160Zm220 220h160v-160H400v160Zm0 220h160v-160H400v160ZM180-400h160v-160H180v160Zm440 0h160v-160H620v160ZM180-180h160v-160H180v160Zm440 0h160v-160H620v160Z\"/>\n",
              "  </svg>\n",
              "    </button>\n",
              "\n",
              "  <style>\n",
              "    .colab-df-container {\n",
              "      display:flex;\n",
              "      gap: 12px;\n",
              "    }\n",
              "\n",
              "    .colab-df-convert {\n",
              "      background-color: #E8F0FE;\n",
              "      border: none;\n",
              "      border-radius: 50%;\n",
              "      cursor: pointer;\n",
              "      display: none;\n",
              "      fill: #1967D2;\n",
              "      height: 32px;\n",
              "      padding: 0 0 0 0;\n",
              "      width: 32px;\n",
              "    }\n",
              "\n",
              "    .colab-df-convert:hover {\n",
              "      background-color: #E2EBFA;\n",
              "      box-shadow: 0px 1px 2px rgba(60, 64, 67, 0.3), 0px 1px 3px 1px rgba(60, 64, 67, 0.15);\n",
              "      fill: #174EA6;\n",
              "    }\n",
              "\n",
              "    .colab-df-buttons div {\n",
              "      margin-bottom: 4px;\n",
              "    }\n",
              "\n",
              "    [theme=dark] .colab-df-convert {\n",
              "      background-color: #3B4455;\n",
              "      fill: #D2E3FC;\n",
              "    }\n",
              "\n",
              "    [theme=dark] .colab-df-convert:hover {\n",
              "      background-color: #434B5C;\n",
              "      box-shadow: 0px 1px 3px 1px rgba(0, 0, 0, 0.15);\n",
              "      filter: drop-shadow(0px 1px 2px rgba(0, 0, 0, 0.3));\n",
              "      fill: #FFFFFF;\n",
              "    }\n",
              "  </style>\n",
              "\n",
              "    <script>\n",
              "      const buttonEl =\n",
              "        document.querySelector('#df-2e621e26-7792-4939-9d9a-14ff050e3957 button.colab-df-convert');\n",
              "      buttonEl.style.display =\n",
              "        google.colab.kernel.accessAllowed ? 'block' : 'none';\n",
              "\n",
              "      async function convertToInteractive(key) {\n",
              "        const element = document.querySelector('#df-2e621e26-7792-4939-9d9a-14ff050e3957');\n",
              "        const dataTable =\n",
              "          await google.colab.kernel.invokeFunction('convertToInteractive',\n",
              "                                                    [key], {});\n",
              "        if (!dataTable) return;\n",
              "\n",
              "        const docLinkHtml = 'Like what you see? Visit the ' +\n",
              "          '<a target=\"_blank\" href=https://colab.research.google.com/notebooks/data_table.ipynb>data table notebook</a>'\n",
              "          + ' to learn more about interactive tables.';\n",
              "        element.innerHTML = '';\n",
              "        dataTable['output_type'] = 'display_data';\n",
              "        await google.colab.output.renderOutput(dataTable, element);\n",
              "        const docLink = document.createElement('div');\n",
              "        docLink.innerHTML = docLinkHtml;\n",
              "        element.appendChild(docLink);\n",
              "      }\n",
              "    </script>\n",
              "  </div>\n",
              "\n",
              "\n",
              "<div id=\"df-266e5f25-eb73-4c81-b572-d225f4508c77\">\n",
              "  <button class=\"colab-df-quickchart\" onclick=\"quickchart('df-266e5f25-eb73-4c81-b572-d225f4508c77')\"\n",
              "            title=\"Suggest charts\"\n",
              "            style=\"display:none;\">\n",
              "\n",
              "<svg xmlns=\"http://www.w3.org/2000/svg\" height=\"24px\"viewBox=\"0 0 24 24\"\n",
              "     width=\"24px\">\n",
              "    <g>\n",
              "        <path d=\"M19 3H5c-1.1 0-2 .9-2 2v14c0 1.1.9 2 2 2h14c1.1 0 2-.9 2-2V5c0-1.1-.9-2-2-2zM9 17H7v-7h2v7zm4 0h-2V7h2v10zm4 0h-2v-4h2v4z\"/>\n",
              "    </g>\n",
              "</svg>\n",
              "  </button>\n",
              "\n",
              "<style>\n",
              "  .colab-df-quickchart {\n",
              "      --bg-color: #E8F0FE;\n",
              "      --fill-color: #1967D2;\n",
              "      --hover-bg-color: #E2EBFA;\n",
              "      --hover-fill-color: #174EA6;\n",
              "      --disabled-fill-color: #AAA;\n",
              "      --disabled-bg-color: #DDD;\n",
              "  }\n",
              "\n",
              "  [theme=dark] .colab-df-quickchart {\n",
              "      --bg-color: #3B4455;\n",
              "      --fill-color: #D2E3FC;\n",
              "      --hover-bg-color: #434B5C;\n",
              "      --hover-fill-color: #FFFFFF;\n",
              "      --disabled-bg-color: #3B4455;\n",
              "      --disabled-fill-color: #666;\n",
              "  }\n",
              "\n",
              "  .colab-df-quickchart {\n",
              "    background-color: var(--bg-color);\n",
              "    border: none;\n",
              "    border-radius: 50%;\n",
              "    cursor: pointer;\n",
              "    display: none;\n",
              "    fill: var(--fill-color);\n",
              "    height: 32px;\n",
              "    padding: 0;\n",
              "    width: 32px;\n",
              "  }\n",
              "\n",
              "  .colab-df-quickchart:hover {\n",
              "    background-color: var(--hover-bg-color);\n",
              "    box-shadow: 0 1px 2px rgba(60, 64, 67, 0.3), 0 1px 3px 1px rgba(60, 64, 67, 0.15);\n",
              "    fill: var(--button-hover-fill-color);\n",
              "  }\n",
              "\n",
              "  .colab-df-quickchart-complete:disabled,\n",
              "  .colab-df-quickchart-complete:disabled:hover {\n",
              "    background-color: var(--disabled-bg-color);\n",
              "    fill: var(--disabled-fill-color);\n",
              "    box-shadow: none;\n",
              "  }\n",
              "\n",
              "  .colab-df-spinner {\n",
              "    border: 2px solid var(--fill-color);\n",
              "    border-color: transparent;\n",
              "    border-bottom-color: var(--fill-color);\n",
              "    animation:\n",
              "      spin 1s steps(1) infinite;\n",
              "  }\n",
              "\n",
              "  @keyframes spin {\n",
              "    0% {\n",
              "      border-color: transparent;\n",
              "      border-bottom-color: var(--fill-color);\n",
              "      border-left-color: var(--fill-color);\n",
              "    }\n",
              "    20% {\n",
              "      border-color: transparent;\n",
              "      border-left-color: var(--fill-color);\n",
              "      border-top-color: var(--fill-color);\n",
              "    }\n",
              "    30% {\n",
              "      border-color: transparent;\n",
              "      border-left-color: var(--fill-color);\n",
              "      border-top-color: var(--fill-color);\n",
              "      border-right-color: var(--fill-color);\n",
              "    }\n",
              "    40% {\n",
              "      border-color: transparent;\n",
              "      border-right-color: var(--fill-color);\n",
              "      border-top-color: var(--fill-color);\n",
              "    }\n",
              "    60% {\n",
              "      border-color: transparent;\n",
              "      border-right-color: var(--fill-color);\n",
              "    }\n",
              "    80% {\n",
              "      border-color: transparent;\n",
              "      border-right-color: var(--fill-color);\n",
              "      border-bottom-color: var(--fill-color);\n",
              "    }\n",
              "    90% {\n",
              "      border-color: transparent;\n",
              "      border-bottom-color: var(--fill-color);\n",
              "    }\n",
              "  }\n",
              "</style>\n",
              "\n",
              "  <script>\n",
              "    async function quickchart(key) {\n",
              "      const quickchartButtonEl =\n",
              "        document.querySelector('#' + key + ' button');\n",
              "      quickchartButtonEl.disabled = true;  // To prevent multiple clicks.\n",
              "      quickchartButtonEl.classList.add('colab-df-spinner');\n",
              "      try {\n",
              "        const charts = await google.colab.kernel.invokeFunction(\n",
              "            'suggestCharts', [key], {});\n",
              "      } catch (error) {\n",
              "        console.error('Error during call to suggestCharts:', error);\n",
              "      }\n",
              "      quickchartButtonEl.classList.remove('colab-df-spinner');\n",
              "      quickchartButtonEl.classList.add('colab-df-quickchart-complete');\n",
              "    }\n",
              "    (() => {\n",
              "      let quickchartButtonEl =\n",
              "        document.querySelector('#df-266e5f25-eb73-4c81-b572-d225f4508c77 button');\n",
              "      quickchartButtonEl.style.display =\n",
              "        google.colab.kernel.accessAllowed ? 'block' : 'none';\n",
              "    })();\n",
              "  </script>\n",
              "</div>\n",
              "    </div>\n",
              "  </div>\n"
            ],
            "text/plain": [
              "    Entry  Precision Cues (Neg)  Precision Scopes (NSco)  \\\n",
              "0       0              0.625000                 0.500000   \n",
              "1       1              0.161290                 0.677419   \n",
              "2       2              0.150943                 0.707547   \n",
              "3       3              0.106383                 0.617021   \n",
              "4       4              0.166667                 0.690476   \n",
              "..    ...                   ...                      ...   \n",
              "59     59              0.235294                 0.411765   \n",
              "60     60              0.166667                 0.416667   \n",
              "61     61              0.093023                 0.406977   \n",
              "62     62              0.160000                 0.600000   \n",
              "63     63              0.250000                 0.400000   \n",
              "\n",
              "    Precision Cues (Unc)  Precision Scopes (USco)  \n",
              "0               0.000000                 0.000000  \n",
              "1               0.400000                 0.300000  \n",
              "2               0.500000                 0.437500  \n",
              "3               0.285714                 0.357143  \n",
              "4               0.333333                 0.250000  \n",
              "..                   ...                      ...  \n",
              "59              0.000000                 0.000000  \n",
              "60              1.000000                 1.000000  \n",
              "61              0.500000                 0.375000  \n",
              "62              0.333333                 0.166667  \n",
              "63              0.250000                 0.250000  \n",
              "\n",
              "[64 rows x 5 columns]"
            ]
          },
          "execution_count": 140,
          "metadata": {},
          "output_type": "execute_result"
        }
      ],
      "source": [
        "data = []\n",
        "for i in range(len(test)):\n",
        "    data.append([\n",
        "        i,\n",
        "        compute_precision_cues(y_true_neg[i], y_pred_neg[i]),\n",
        "        compute_precision_scopes(y_true_nsco[i], y_pred_nsco[i]),\n",
        "        compute_precision_cues(y_true_unc[i], y_pred_unc[i]),\n",
        "        compute_precision_scopes(y_true_usco[i], y_pred_usco[i])\n",
        "    ])\n",
        "\n",
        "columns = [\"Entry\", \"Precision Cues (Neg)\", \"Precision Scopes (NSco)\", \"Precision Cues (Unc)\", \"Precision Scopes (USco)\"]\n",
        "\n",
        "df = pd.DataFrame(data, columns=columns)\n",
        "\n",
        "print(\"Dataset:\")\n",
        "df"
      ]
    },
    {
      "cell_type": "markdown",
      "metadata": {
        "id": "yPUZr9g4eWOE"
      },
      "source": [
        "The metrics are calculated for each entry in the dataset and the mean will be later computed to assess the performance of the model based on the whole test set."
      ]
    },
    {
      "cell_type": "code",
      "execution_count": null,
      "metadata": {
        "colab": {
          "base_uri": "https://localhost:8080/"
        },
        "id": "UDkq8zs1WPdb",
        "outputId": "f995271f-14da-48f7-f8da-82dedce4883d"
      },
      "outputs": [
        {
          "name": "stdout",
          "output_type": "stream",
          "text": [
            "\n",
            "Column-wise averages:\n",
            "Precision Cues (Neg)       0.329263\n",
            "Precision Scopes (NSco)    0.560762\n",
            "Precision Cues (Unc)       0.485758\n",
            "Precision Scopes (USco)    0.412872\n",
            "dtype: float64\n"
          ]
        }
      ],
      "source": [
        "print(\"\\nColumn-wise averages:\")\n",
        "print(df.drop(columns=['Entry']).mean())"
      ]
    },
    {
      "cell_type": "code",
      "execution_count": null,
      "metadata": {
        "id": "4sRbRLlRX24o"
      },
      "outputs": [],
      "source": [
        "def compute_sensitivity_cues(y_true, y_pred):\n",
        "    if len(y_true) == 0 and len(y_pred) != 0:  #If no true cues and some predicted cues, the precision is 0. Avoid decision by 0\n",
        "      return 0\n",
        "    elif len(y_pred) == 0 or len(y_true) == 0:  #If no predicted cues and no true cues the precision is 1\n",
        "      return 1\n",
        "    else:\n",
        "      y_true2 = y_true.copy() #Avoid modifying the original list\n",
        "      num_correct = 0\n",
        "      total_words = len(y_pred)\n",
        "\n",
        "      for token in y_pred:\n",
        "          if token.text in y_true2:\n",
        "              y_true2.remove(token.text)  # Remove the matched token from y_true so that it counts as correct as many as there are true\n",
        "                #same approach used as in the precision metric\n",
        "              num_correct += 1\n",
        "\n",
        "      sensitivity = num_correct / len(y_true)\n",
        "      return sensitivity\n",
        "\n",
        "def compute_sensitivity_scopes(y_true, y_pred):\n",
        "    if ((len(y_true) == 0) and (len(y_pred) != 0)):\n",
        "      return 0\n",
        "    elif len(y_pred) == 0 or len(y_true) == 0:\n",
        "      return 1\n",
        "    else:\n",
        "      num_correct = 0\n",
        "      total = len(y_pred)\n",
        "      for scope in y_pred:\n",
        "        if scope in y_true:\n",
        "          num_correct += 1   #whole punctuation if exact scope\n",
        "        else:\n",
        "          for real in y_true:\n",
        "            if scope[0] == real[0]:\n",
        "              num_correct += 0.5  #half the punctuation if half correct\n",
        "      sensitivity = num_correct / len(y_true)\n",
        "    return sensitivity"
      ]
    },
    {
      "cell_type": "code",
      "execution_count": null,
      "metadata": {
        "colab": {
          "base_uri": "https://localhost:8080/",
          "height": 441
        },
        "id": "bHinOMjHZ_P6",
        "outputId": "1bd85411-3078-4682-8367-3ec8457989f8"
      },
      "outputs": [
        {
          "name": "stdout",
          "output_type": "stream",
          "text": [
            "Dataset:\n"
          ]
        },
        {
          "data": {
            "application/vnd.google.colaboratory.intrinsic+json": {
              "summary": "{\n  \"name\": \"df2\",\n  \"rows\": 64,\n  \"fields\": [\n    {\n      \"column\": \"Entry\",\n      \"properties\": {\n        \"dtype\": \"number\",\n        \"std\": 18,\n        \"min\": 0,\n        \"max\": 63,\n        \"num_unique_values\": 64,\n        \"samples\": [\n          52,\n          58,\n          0\n        ],\n        \"semantic_type\": \"\",\n        \"description\": \"\"\n      }\n    },\n    {\n      \"column\": \"Sensitivity Cues (Neg)\",\n      \"properties\": {\n        \"dtype\": \"number\",\n        \"std\": 0.12171243540900176,\n        \"min\": 0.5,\n        \"max\": 1.0,\n        \"num_unique_values\": 11,\n        \"samples\": [\n          0.7272727272727273,\n          1.0,\n          0.8571428571428571\n        ],\n        \"semantic_type\": \"\",\n        \"description\": \"\"\n      }\n    },\n    {\n      \"column\": \"Sensitivity Scopes (NSco)\",\n      \"properties\": {\n        \"dtype\": \"number\",\n        \"std\": 0.15158511480236156,\n        \"min\": 0.38461538461538464,\n        \"max\": 1.0,\n        \"num_unique_values\": 38,\n        \"samples\": [\n          0.875,\n          0.625,\n          0.7435897435897436\n        ],\n        \"semantic_type\": \"\",\n        \"description\": \"\"\n      }\n    },\n    {\n      \"column\": \"senSensitivitysitivity Cues (Unc)\",\n      \"properties\": {\n        \"dtype\": \"number\",\n        \"std\": 0.418100705156324,\n        \"min\": 0.0,\n        \"max\": 1.0,\n        \"num_unique_values\": 8,\n        \"samples\": [\n          1.0,\n          0.5,\n          0.0\n        ],\n        \"semantic_type\": \"\",\n        \"description\": \"\"\n      }\n    },\n    {\n      \"column\": \"Sensitivity Scopes (USco)\",\n      \"properties\": {\n        \"dtype\": \"number\",\n        \"std\": 0.39857312994211735,\n        \"min\": 0.0,\n        \"max\": 1.0,\n        \"num_unique_values\": 15,\n        \"samples\": [\n          0.7,\n          0.3,\n          0.0\n        ],\n        \"semantic_type\": \"\",\n        \"description\": \"\"\n      }\n    }\n  ]\n}",
              "type": "dataframe",
              "variable_name": "df2"
            },
            "text/html": [
              "\n",
              "  <div id=\"df-d56155ab-b772-478b-9364-1e86a93b11db\" class=\"colab-df-container\">\n",
              "    <div>\n",
              "<style scoped>\n",
              "    .dataframe tbody tr th:only-of-type {\n",
              "        vertical-align: middle;\n",
              "    }\n",
              "\n",
              "    .dataframe tbody tr th {\n",
              "        vertical-align: top;\n",
              "    }\n",
              "\n",
              "    .dataframe thead th {\n",
              "        text-align: right;\n",
              "    }\n",
              "</style>\n",
              "<table border=\"1\" class=\"dataframe\">\n",
              "  <thead>\n",
              "    <tr style=\"text-align: right;\">\n",
              "      <th></th>\n",
              "      <th>Entry</th>\n",
              "      <th>Sensitivity Cues (Neg)</th>\n",
              "      <th>Sensitivity Scopes (NSco)</th>\n",
              "      <th>senSensitivitysitivity Cues (Unc)</th>\n",
              "      <th>Sensitivity Scopes (USco)</th>\n",
              "    </tr>\n",
              "  </thead>\n",
              "  <tbody>\n",
              "    <tr>\n",
              "      <th>0</th>\n",
              "      <td>0</td>\n",
              "      <td>1.000000</td>\n",
              "      <td>0.571429</td>\n",
              "      <td>0.000000</td>\n",
              "      <td>0.000000</td>\n",
              "    </tr>\n",
              "    <tr>\n",
              "      <th>1</th>\n",
              "      <td>1</td>\n",
              "      <td>1.000000</td>\n",
              "      <td>0.724138</td>\n",
              "      <td>1.000000</td>\n",
              "      <td>0.750000</td>\n",
              "    </tr>\n",
              "    <tr>\n",
              "      <th>2</th>\n",
              "      <td>2</td>\n",
              "      <td>1.000000</td>\n",
              "      <td>0.765306</td>\n",
              "      <td>0.571429</td>\n",
              "      <td>0.437500</td>\n",
              "    </tr>\n",
              "    <tr>\n",
              "      <th>3</th>\n",
              "      <td>3</td>\n",
              "      <td>0.714286</td>\n",
              "      <td>0.690476</td>\n",
              "      <td>0.333333</td>\n",
              "      <td>0.277778</td>\n",
              "    </tr>\n",
              "    <tr>\n",
              "      <th>4</th>\n",
              "      <td>4</td>\n",
              "      <td>0.875000</td>\n",
              "      <td>0.743590</td>\n",
              "      <td>0.400000</td>\n",
              "      <td>0.250000</td>\n",
              "    </tr>\n",
              "    <tr>\n",
              "      <th>...</th>\n",
              "      <td>...</td>\n",
              "      <td>...</td>\n",
              "      <td>...</td>\n",
              "      <td>...</td>\n",
              "      <td>...</td>\n",
              "    </tr>\n",
              "    <tr>\n",
              "      <th>59</th>\n",
              "      <td>59</td>\n",
              "      <td>0.666667</td>\n",
              "      <td>0.500000</td>\n",
              "      <td>0.000000</td>\n",
              "      <td>0.000000</td>\n",
              "    </tr>\n",
              "    <tr>\n",
              "      <th>60</th>\n",
              "      <td>60</td>\n",
              "      <td>1.000000</td>\n",
              "      <td>0.454545</td>\n",
              "      <td>1.000000</td>\n",
              "      <td>1.000000</td>\n",
              "    </tr>\n",
              "    <tr>\n",
              "      <th>61</th>\n",
              "      <td>61</td>\n",
              "      <td>0.666667</td>\n",
              "      <td>0.426829</td>\n",
              "      <td>0.400000</td>\n",
              "      <td>0.300000</td>\n",
              "    </tr>\n",
              "    <tr>\n",
              "      <th>62</th>\n",
              "      <td>62</td>\n",
              "      <td>1.000000</td>\n",
              "      <td>0.625000</td>\n",
              "      <td>1.000000</td>\n",
              "      <td>0.500000</td>\n",
              "    </tr>\n",
              "    <tr>\n",
              "      <th>63</th>\n",
              "      <td>63</td>\n",
              "      <td>1.000000</td>\n",
              "      <td>0.470588</td>\n",
              "      <td>0.333333</td>\n",
              "      <td>0.333333</td>\n",
              "    </tr>\n",
              "  </tbody>\n",
              "</table>\n",
              "<p>64 rows × 5 columns</p>\n",
              "</div>\n",
              "    <div class=\"colab-df-buttons\">\n",
              "\n",
              "  <div class=\"colab-df-container\">\n",
              "    <button class=\"colab-df-convert\" onclick=\"convertToInteractive('df-d56155ab-b772-478b-9364-1e86a93b11db')\"\n",
              "            title=\"Convert this dataframe to an interactive table.\"\n",
              "            style=\"display:none;\">\n",
              "\n",
              "  <svg xmlns=\"http://www.w3.org/2000/svg\" height=\"24px\" viewBox=\"0 -960 960 960\">\n",
              "    <path d=\"M120-120v-720h720v720H120Zm60-500h600v-160H180v160Zm220 220h160v-160H400v160Zm0 220h160v-160H400v160ZM180-400h160v-160H180v160Zm440 0h160v-160H620v160ZM180-180h160v-160H180v160Zm440 0h160v-160H620v160Z\"/>\n",
              "  </svg>\n",
              "    </button>\n",
              "\n",
              "  <style>\n",
              "    .colab-df-container {\n",
              "      display:flex;\n",
              "      gap: 12px;\n",
              "    }\n",
              "\n",
              "    .colab-df-convert {\n",
              "      background-color: #E8F0FE;\n",
              "      border: none;\n",
              "      border-radius: 50%;\n",
              "      cursor: pointer;\n",
              "      display: none;\n",
              "      fill: #1967D2;\n",
              "      height: 32px;\n",
              "      padding: 0 0 0 0;\n",
              "      width: 32px;\n",
              "    }\n",
              "\n",
              "    .colab-df-convert:hover {\n",
              "      background-color: #E2EBFA;\n",
              "      box-shadow: 0px 1px 2px rgba(60, 64, 67, 0.3), 0px 1px 3px 1px rgba(60, 64, 67, 0.15);\n",
              "      fill: #174EA6;\n",
              "    }\n",
              "\n",
              "    .colab-df-buttons div {\n",
              "      margin-bottom: 4px;\n",
              "    }\n",
              "\n",
              "    [theme=dark] .colab-df-convert {\n",
              "      background-color: #3B4455;\n",
              "      fill: #D2E3FC;\n",
              "    }\n",
              "\n",
              "    [theme=dark] .colab-df-convert:hover {\n",
              "      background-color: #434B5C;\n",
              "      box-shadow: 0px 1px 3px 1px rgba(0, 0, 0, 0.15);\n",
              "      filter: drop-shadow(0px 1px 2px rgba(0, 0, 0, 0.3));\n",
              "      fill: #FFFFFF;\n",
              "    }\n",
              "  </style>\n",
              "\n",
              "    <script>\n",
              "      const buttonEl =\n",
              "        document.querySelector('#df-d56155ab-b772-478b-9364-1e86a93b11db button.colab-df-convert');\n",
              "      buttonEl.style.display =\n",
              "        google.colab.kernel.accessAllowed ? 'block' : 'none';\n",
              "\n",
              "      async function convertToInteractive(key) {\n",
              "        const element = document.querySelector('#df-d56155ab-b772-478b-9364-1e86a93b11db');\n",
              "        const dataTable =\n",
              "          await google.colab.kernel.invokeFunction('convertToInteractive',\n",
              "                                                    [key], {});\n",
              "        if (!dataTable) return;\n",
              "\n",
              "        const docLinkHtml = 'Like what you see? Visit the ' +\n",
              "          '<a target=\"_blank\" href=https://colab.research.google.com/notebooks/data_table.ipynb>data table notebook</a>'\n",
              "          + ' to learn more about interactive tables.';\n",
              "        element.innerHTML = '';\n",
              "        dataTable['output_type'] = 'display_data';\n",
              "        await google.colab.output.renderOutput(dataTable, element);\n",
              "        const docLink = document.createElement('div');\n",
              "        docLink.innerHTML = docLinkHtml;\n",
              "        element.appendChild(docLink);\n",
              "      }\n",
              "    </script>\n",
              "  </div>\n",
              "\n",
              "\n",
              "<div id=\"df-ae704c23-4735-47a6-aed7-9753d903b777\">\n",
              "  <button class=\"colab-df-quickchart\" onclick=\"quickchart('df-ae704c23-4735-47a6-aed7-9753d903b777')\"\n",
              "            title=\"Suggest charts\"\n",
              "            style=\"display:none;\">\n",
              "\n",
              "<svg xmlns=\"http://www.w3.org/2000/svg\" height=\"24px\"viewBox=\"0 0 24 24\"\n",
              "     width=\"24px\">\n",
              "    <g>\n",
              "        <path d=\"M19 3H5c-1.1 0-2 .9-2 2v14c0 1.1.9 2 2 2h14c1.1 0 2-.9 2-2V5c0-1.1-.9-2-2-2zM9 17H7v-7h2v7zm4 0h-2V7h2v10zm4 0h-2v-4h2v4z\"/>\n",
              "    </g>\n",
              "</svg>\n",
              "  </button>\n",
              "\n",
              "<style>\n",
              "  .colab-df-quickchart {\n",
              "      --bg-color: #E8F0FE;\n",
              "      --fill-color: #1967D2;\n",
              "      --hover-bg-color: #E2EBFA;\n",
              "      --hover-fill-color: #174EA6;\n",
              "      --disabled-fill-color: #AAA;\n",
              "      --disabled-bg-color: #DDD;\n",
              "  }\n",
              "\n",
              "  [theme=dark] .colab-df-quickchart {\n",
              "      --bg-color: #3B4455;\n",
              "      --fill-color: #D2E3FC;\n",
              "      --hover-bg-color: #434B5C;\n",
              "      --hover-fill-color: #FFFFFF;\n",
              "      --disabled-bg-color: #3B4455;\n",
              "      --disabled-fill-color: #666;\n",
              "  }\n",
              "\n",
              "  .colab-df-quickchart {\n",
              "    background-color: var(--bg-color);\n",
              "    border: none;\n",
              "    border-radius: 50%;\n",
              "    cursor: pointer;\n",
              "    display: none;\n",
              "    fill: var(--fill-color);\n",
              "    height: 32px;\n",
              "    padding: 0;\n",
              "    width: 32px;\n",
              "  }\n",
              "\n",
              "  .colab-df-quickchart:hover {\n",
              "    background-color: var(--hover-bg-color);\n",
              "    box-shadow: 0 1px 2px rgba(60, 64, 67, 0.3), 0 1px 3px 1px rgba(60, 64, 67, 0.15);\n",
              "    fill: var(--button-hover-fill-color);\n",
              "  }\n",
              "\n",
              "  .colab-df-quickchart-complete:disabled,\n",
              "  .colab-df-quickchart-complete:disabled:hover {\n",
              "    background-color: var(--disabled-bg-color);\n",
              "    fill: var(--disabled-fill-color);\n",
              "    box-shadow: none;\n",
              "  }\n",
              "\n",
              "  .colab-df-spinner {\n",
              "    border: 2px solid var(--fill-color);\n",
              "    border-color: transparent;\n",
              "    border-bottom-color: var(--fill-color);\n",
              "    animation:\n",
              "      spin 1s steps(1) infinite;\n",
              "  }\n",
              "\n",
              "  @keyframes spin {\n",
              "    0% {\n",
              "      border-color: transparent;\n",
              "      border-bottom-color: var(--fill-color);\n",
              "      border-left-color: var(--fill-color);\n",
              "    }\n",
              "    20% {\n",
              "      border-color: transparent;\n",
              "      border-left-color: var(--fill-color);\n",
              "      border-top-color: var(--fill-color);\n",
              "    }\n",
              "    30% {\n",
              "      border-color: transparent;\n",
              "      border-left-color: var(--fill-color);\n",
              "      border-top-color: var(--fill-color);\n",
              "      border-right-color: var(--fill-color);\n",
              "    }\n",
              "    40% {\n",
              "      border-color: transparent;\n",
              "      border-right-color: var(--fill-color);\n",
              "      border-top-color: var(--fill-color);\n",
              "    }\n",
              "    60% {\n",
              "      border-color: transparent;\n",
              "      border-right-color: var(--fill-color);\n",
              "    }\n",
              "    80% {\n",
              "      border-color: transparent;\n",
              "      border-right-color: var(--fill-color);\n",
              "      border-bottom-color: var(--fill-color);\n",
              "    }\n",
              "    90% {\n",
              "      border-color: transparent;\n",
              "      border-bottom-color: var(--fill-color);\n",
              "    }\n",
              "  }\n",
              "</style>\n",
              "\n",
              "  <script>\n",
              "    async function quickchart(key) {\n",
              "      const quickchartButtonEl =\n",
              "        document.querySelector('#' + key + ' button');\n",
              "      quickchartButtonEl.disabled = true;  // To prevent multiple clicks.\n",
              "      quickchartButtonEl.classList.add('colab-df-spinner');\n",
              "      try {\n",
              "        const charts = await google.colab.kernel.invokeFunction(\n",
              "            'suggestCharts', [key], {});\n",
              "      } catch (error) {\n",
              "        console.error('Error during call to suggestCharts:', error);\n",
              "      }\n",
              "      quickchartButtonEl.classList.remove('colab-df-spinner');\n",
              "      quickchartButtonEl.classList.add('colab-df-quickchart-complete');\n",
              "    }\n",
              "    (() => {\n",
              "      let quickchartButtonEl =\n",
              "        document.querySelector('#df-ae704c23-4735-47a6-aed7-9753d903b777 button');\n",
              "      quickchartButtonEl.style.display =\n",
              "        google.colab.kernel.accessAllowed ? 'block' : 'none';\n",
              "    })();\n",
              "  </script>\n",
              "</div>\n",
              "    </div>\n",
              "  </div>\n"
            ],
            "text/plain": [
              "    Entry  Sensitivity Cues (Neg)  Sensitivity Scopes (NSco)  \\\n",
              "0       0                1.000000                   0.571429   \n",
              "1       1                1.000000                   0.724138   \n",
              "2       2                1.000000                   0.765306   \n",
              "3       3                0.714286                   0.690476   \n",
              "4       4                0.875000                   0.743590   \n",
              "..    ...                     ...                        ...   \n",
              "59     59                0.666667                   0.500000   \n",
              "60     60                1.000000                   0.454545   \n",
              "61     61                0.666667                   0.426829   \n",
              "62     62                1.000000                   0.625000   \n",
              "63     63                1.000000                   0.470588   \n",
              "\n",
              "    senSensitivitysitivity Cues (Unc)  Sensitivity Scopes (USco)  \n",
              "0                            0.000000                   0.000000  \n",
              "1                            1.000000                   0.750000  \n",
              "2                            0.571429                   0.437500  \n",
              "3                            0.333333                   0.277778  \n",
              "4                            0.400000                   0.250000  \n",
              "..                                ...                        ...  \n",
              "59                           0.000000                   0.000000  \n",
              "60                           1.000000                   1.000000  \n",
              "61                           0.400000                   0.300000  \n",
              "62                           1.000000                   0.500000  \n",
              "63                           0.333333                   0.333333  \n",
              "\n",
              "[64 rows x 5 columns]"
            ]
          },
          "execution_count": 148,
          "metadata": {},
          "output_type": "execute_result"
        }
      ],
      "source": [
        "data2 = []\n",
        "for i in range(len(test)):\n",
        "    data2.append([\n",
        "        i,\n",
        "        compute_sensitivity_cues(y_true_neg[i], y_pred_neg[i]),\n",
        "        compute_sensitivity_scopes(y_true_nsco[i], y_pred_nsco[i]),\n",
        "        compute_sensitivity_cues(y_true_unc[i], y_pred_unc[i]),\n",
        "        compute_sensitivity_scopes(y_true_usco[i], y_pred_usco[i])\n",
        "    ])\n",
        "\n",
        "columns2 = [\"Entry\", \"Sensitivity Cues (Neg)\", \"Sensitivity Scopes (NSco)\", \"senSensitivitysitivity Cues (Unc)\", \"Sensitivity Scopes (USco)\"]\n",
        "\n",
        "df2 = pd.DataFrame(data2, columns=columns2)\n",
        "\n",
        "print(\"Dataset:\")\n",
        "df2\n"
      ]
    },
    {
      "cell_type": "markdown",
      "metadata": {
        "id": "jhayVQcfgEGA"
      },
      "source": [
        "The higher sensitivity values compared to precision can be attributed to the model's tendency to tag a higher number of instances as negation or uncertainty cues. This results in more predicted cues than actually present, leading to an increase in false positives.\n",
        "\n",
        "As divided by the number of true tags, the values of the sensitivity tend to be higher."
      ]
    },
    {
      "cell_type": "code",
      "execution_count": null,
      "metadata": {
        "colab": {
          "base_uri": "https://localhost:8080/"
        },
        "id": "S5kfL7rkaG2e",
        "outputId": "392ec233-0626-497c-992e-54e895da9993"
      },
      "outputs": [
        {
          "name": "stdout",
          "output_type": "stream",
          "text": [
            "\n",
            "Column-wise averages:\n",
            "Sensitivity Cues (Neg)               0.931630\n",
            "Sensitivity Scopes (NSco)            0.629012\n",
            "senSensitivitysitivity Cues (Unc)    0.516034\n",
            "Sensitivity Scopes (USco)            0.429201\n",
            "dtype: float64\n"
          ]
        }
      ],
      "source": [
        "print(\"\\nColumn-wise averages:\")\n",
        "print(df2.drop(columns=['Entry']).mean())"
      ]
    }
  ],
  "metadata": {
    "colab": {
      "provenance": [],
      "toc_visible": true
    },
    "kernelspec": {
      "display_name": "Python 3",
      "name": "python3"
    },
    "language_info": {
      "name": "python"
    }
  },
  "nbformat": 4,
  "nbformat_minor": 0
}
